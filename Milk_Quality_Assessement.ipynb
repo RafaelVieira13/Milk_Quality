{
 "cells": [
  {
   "cell_type": "markdown",
   "id": "045c58b1",
   "metadata": {},
   "source": [
    "<center><h1><b><font size=\"8\">Milk Quality Assessment</font></b></h1></center>\n",
    "<center><h1>Classification Model</h1><center>"
   ]
  },
  {
   "cell_type": "markdown",
   "id": "18517ecb",
   "metadata": {},
   "source": [
    "# The Dataset"
   ]
  },
  {
   "cell_type": "markdown",
   "id": "bd8e8efa",
   "metadata": {},
   "source": [
    "This dataset is manually collected from observations. It helps us to build machine learning models to predict the quality of milk.\n",
    "This dataset consists of 7 independent variables ie pH, Temperature, Taste, Odor, Fat, Turbidity, and Color.\n",
    "Generally, the Grade or Quality of the milk depends on these parameters. These parameters play a vital role in the predictive analysis of the milk."
   ]
  },
  {
   "cell_type": "code",
   "execution_count": 1,
   "id": "a2404410",
   "metadata": {},
   "outputs": [],
   "source": [
    "import pandas as pd\n",
    "import numpy as np"
   ]
  },
  {
   "cell_type": "code",
   "execution_count": 2,
   "id": "4a4fca2e",
   "metadata": {},
   "outputs": [],
   "source": [
    "dataset = pd.read_csv(\"milknew.csv\")"
   ]
  },
  {
   "cell_type": "code",
   "execution_count": 3,
   "id": "b99d650d",
   "metadata": {},
   "outputs": [
    {
     "data": {
      "text/html": [
       "<div>\n",
       "<style scoped>\n",
       "    .dataframe tbody tr th:only-of-type {\n",
       "        vertical-align: middle;\n",
       "    }\n",
       "\n",
       "    .dataframe tbody tr th {\n",
       "        vertical-align: top;\n",
       "    }\n",
       "\n",
       "    .dataframe thead th {\n",
       "        text-align: right;\n",
       "    }\n",
       "</style>\n",
       "<table border=\"1\" class=\"dataframe\">\n",
       "  <thead>\n",
       "    <tr style=\"text-align: right;\">\n",
       "      <th></th>\n",
       "      <th>pH</th>\n",
       "      <th>Temprature</th>\n",
       "      <th>Taste</th>\n",
       "      <th>Odor</th>\n",
       "      <th>Fat</th>\n",
       "      <th>Turbidity</th>\n",
       "      <th>Colour</th>\n",
       "      <th>Grade</th>\n",
       "    </tr>\n",
       "  </thead>\n",
       "  <tbody>\n",
       "    <tr>\n",
       "      <th>0</th>\n",
       "      <td>6.6</td>\n",
       "      <td>35</td>\n",
       "      <td>1</td>\n",
       "      <td>0</td>\n",
       "      <td>1</td>\n",
       "      <td>0</td>\n",
       "      <td>254</td>\n",
       "      <td>high</td>\n",
       "    </tr>\n",
       "    <tr>\n",
       "      <th>1</th>\n",
       "      <td>6.6</td>\n",
       "      <td>36</td>\n",
       "      <td>0</td>\n",
       "      <td>1</td>\n",
       "      <td>0</td>\n",
       "      <td>1</td>\n",
       "      <td>253</td>\n",
       "      <td>high</td>\n",
       "    </tr>\n",
       "    <tr>\n",
       "      <th>2</th>\n",
       "      <td>8.5</td>\n",
       "      <td>70</td>\n",
       "      <td>1</td>\n",
       "      <td>1</td>\n",
       "      <td>1</td>\n",
       "      <td>1</td>\n",
       "      <td>246</td>\n",
       "      <td>low</td>\n",
       "    </tr>\n",
       "    <tr>\n",
       "      <th>3</th>\n",
       "      <td>9.5</td>\n",
       "      <td>34</td>\n",
       "      <td>1</td>\n",
       "      <td>1</td>\n",
       "      <td>0</td>\n",
       "      <td>1</td>\n",
       "      <td>255</td>\n",
       "      <td>low</td>\n",
       "    </tr>\n",
       "    <tr>\n",
       "      <th>4</th>\n",
       "      <td>6.6</td>\n",
       "      <td>37</td>\n",
       "      <td>0</td>\n",
       "      <td>0</td>\n",
       "      <td>0</td>\n",
       "      <td>0</td>\n",
       "      <td>255</td>\n",
       "      <td>medium</td>\n",
       "    </tr>\n",
       "  </tbody>\n",
       "</table>\n",
       "</div>"
      ],
      "text/plain": [
       "    pH  Temprature  Taste  Odor  Fat   Turbidity  Colour   Grade\n",
       "0  6.6          35      1     0     1          0     254    high\n",
       "1  6.6          36      0     1     0          1     253    high\n",
       "2  8.5          70      1     1     1          1     246     low\n",
       "3  9.5          34      1     1     0          1     255     low\n",
       "4  6.6          37      0     0     0          0     255  medium"
      ]
     },
     "execution_count": 3,
     "metadata": {},
     "output_type": "execute_result"
    }
   ],
   "source": [
    "dataset.head()"
   ]
  },
  {
   "cell_type": "code",
   "execution_count": 4,
   "id": "062b2b33",
   "metadata": {},
   "outputs": [
    {
     "name": "stdout",
     "output_type": "stream",
     "text": [
      "<class 'pandas.core.frame.DataFrame'>\n",
      "RangeIndex: 1059 entries, 0 to 1058\n",
      "Data columns (total 8 columns):\n",
      " #   Column      Non-Null Count  Dtype  \n",
      "---  ------      --------------  -----  \n",
      " 0   pH          1059 non-null   float64\n",
      " 1   Temprature  1059 non-null   int64  \n",
      " 2   Taste       1059 non-null   int64  \n",
      " 3   Odor        1059 non-null   int64  \n",
      " 4   Fat         1059 non-null   int64  \n",
      " 5   Turbidity   1059 non-null   int64  \n",
      " 6   Colour      1059 non-null   int64  \n",
      " 7   Grade       1059 non-null   object \n",
      "dtypes: float64(1), int64(6), object(1)\n",
      "memory usage: 66.3+ KB\n"
     ]
    }
   ],
   "source": [
    "dataset.info()"
   ]
  },
  {
   "cell_type": "code",
   "execution_count": 5,
   "id": "6f2243ad",
   "metadata": {},
   "outputs": [
    {
     "data": {
      "text/html": [
       "<div>\n",
       "<style scoped>\n",
       "    .dataframe tbody tr th:only-of-type {\n",
       "        vertical-align: middle;\n",
       "    }\n",
       "\n",
       "    .dataframe tbody tr th {\n",
       "        vertical-align: top;\n",
       "    }\n",
       "\n",
       "    .dataframe thead th {\n",
       "        text-align: right;\n",
       "    }\n",
       "</style>\n",
       "<table border=\"1\" class=\"dataframe\">\n",
       "  <thead>\n",
       "    <tr style=\"text-align: right;\">\n",
       "      <th></th>\n",
       "      <th>pH</th>\n",
       "      <th>Temprature</th>\n",
       "      <th>Taste</th>\n",
       "      <th>Odor</th>\n",
       "      <th>Fat</th>\n",
       "      <th>Turbidity</th>\n",
       "      <th>Colour</th>\n",
       "    </tr>\n",
       "  </thead>\n",
       "  <tbody>\n",
       "    <tr>\n",
       "      <th>count</th>\n",
       "      <td>1059.000000</td>\n",
       "      <td>1059.000000</td>\n",
       "      <td>1059.000000</td>\n",
       "      <td>1059.000000</td>\n",
       "      <td>1059.000000</td>\n",
       "      <td>1059.000000</td>\n",
       "      <td>1059.000000</td>\n",
       "    </tr>\n",
       "    <tr>\n",
       "      <th>mean</th>\n",
       "      <td>6.630123</td>\n",
       "      <td>44.226629</td>\n",
       "      <td>0.546742</td>\n",
       "      <td>0.432483</td>\n",
       "      <td>0.671388</td>\n",
       "      <td>0.491029</td>\n",
       "      <td>251.840415</td>\n",
       "    </tr>\n",
       "    <tr>\n",
       "      <th>std</th>\n",
       "      <td>1.399679</td>\n",
       "      <td>10.098364</td>\n",
       "      <td>0.498046</td>\n",
       "      <td>0.495655</td>\n",
       "      <td>0.469930</td>\n",
       "      <td>0.500156</td>\n",
       "      <td>4.307424</td>\n",
       "    </tr>\n",
       "    <tr>\n",
       "      <th>min</th>\n",
       "      <td>3.000000</td>\n",
       "      <td>34.000000</td>\n",
       "      <td>0.000000</td>\n",
       "      <td>0.000000</td>\n",
       "      <td>0.000000</td>\n",
       "      <td>0.000000</td>\n",
       "      <td>240.000000</td>\n",
       "    </tr>\n",
       "    <tr>\n",
       "      <th>25%</th>\n",
       "      <td>6.500000</td>\n",
       "      <td>38.000000</td>\n",
       "      <td>0.000000</td>\n",
       "      <td>0.000000</td>\n",
       "      <td>0.000000</td>\n",
       "      <td>0.000000</td>\n",
       "      <td>250.000000</td>\n",
       "    </tr>\n",
       "    <tr>\n",
       "      <th>50%</th>\n",
       "      <td>6.700000</td>\n",
       "      <td>41.000000</td>\n",
       "      <td>1.000000</td>\n",
       "      <td>0.000000</td>\n",
       "      <td>1.000000</td>\n",
       "      <td>0.000000</td>\n",
       "      <td>255.000000</td>\n",
       "    </tr>\n",
       "    <tr>\n",
       "      <th>75%</th>\n",
       "      <td>6.800000</td>\n",
       "      <td>45.000000</td>\n",
       "      <td>1.000000</td>\n",
       "      <td>1.000000</td>\n",
       "      <td>1.000000</td>\n",
       "      <td>1.000000</td>\n",
       "      <td>255.000000</td>\n",
       "    </tr>\n",
       "    <tr>\n",
       "      <th>max</th>\n",
       "      <td>9.500000</td>\n",
       "      <td>90.000000</td>\n",
       "      <td>1.000000</td>\n",
       "      <td>1.000000</td>\n",
       "      <td>1.000000</td>\n",
       "      <td>1.000000</td>\n",
       "      <td>255.000000</td>\n",
       "    </tr>\n",
       "  </tbody>\n",
       "</table>\n",
       "</div>"
      ],
      "text/plain": [
       "                pH   Temprature        Taste         Odor         Fat   \\\n",
       "count  1059.000000  1059.000000  1059.000000  1059.000000  1059.000000   \n",
       "mean      6.630123    44.226629     0.546742     0.432483     0.671388   \n",
       "std       1.399679    10.098364     0.498046     0.495655     0.469930   \n",
       "min       3.000000    34.000000     0.000000     0.000000     0.000000   \n",
       "25%       6.500000    38.000000     0.000000     0.000000     0.000000   \n",
       "50%       6.700000    41.000000     1.000000     0.000000     1.000000   \n",
       "75%       6.800000    45.000000     1.000000     1.000000     1.000000   \n",
       "max       9.500000    90.000000     1.000000     1.000000     1.000000   \n",
       "\n",
       "         Turbidity       Colour  \n",
       "count  1059.000000  1059.000000  \n",
       "mean      0.491029   251.840415  \n",
       "std       0.500156     4.307424  \n",
       "min       0.000000   240.000000  \n",
       "25%       0.000000   250.000000  \n",
       "50%       0.000000   255.000000  \n",
       "75%       1.000000   255.000000  \n",
       "max       1.000000   255.000000  "
      ]
     },
     "execution_count": 5,
     "metadata": {},
     "output_type": "execute_result"
    }
   ],
   "source": [
    "dataset.describe()"
   ]
  },
  {
   "cell_type": "code",
   "execution_count": 6,
   "id": "09ef2890",
   "metadata": {},
   "outputs": [
    {
     "data": {
      "text/plain": [
       "low       429\n",
       "medium    374\n",
       "high      256\n",
       "Name: Grade, dtype: int64"
      ]
     },
     "execution_count": 6,
     "metadata": {},
     "output_type": "execute_result"
    }
   ],
   "source": [
    "dataset[\"Grade\"].value_counts()"
   ]
  },
  {
   "cell_type": "code",
   "execution_count": 7,
   "id": "04482230",
   "metadata": {},
   "outputs": [
    {
     "data": {
      "text/plain": [
       "Index(['pH', 'Temprature', 'Taste', 'Odor', 'Fat ', 'Turbidity', 'Colour',\n",
       "       'Grade'],\n",
       "      dtype='object')"
      ]
     },
     "execution_count": 7,
     "metadata": {},
     "output_type": "execute_result"
    }
   ],
   "source": [
    "dataset.columns"
   ]
  },
  {
   "cell_type": "code",
   "execution_count": 8,
   "id": "40516a24",
   "metadata": {},
   "outputs": [],
   "source": [
    "dataset.rename(columns={\"Fat \":\"Fat\"},inplace=True)"
   ]
  },
  {
   "cell_type": "code",
   "execution_count": 9,
   "id": "c448e605",
   "metadata": {},
   "outputs": [],
   "source": [
    "from skimpy import skim"
   ]
  },
  {
   "cell_type": "code",
   "execution_count": 10,
   "id": "3e78f1f1",
   "metadata": {},
   "outputs": [
    {
     "data": {
      "text/html": [
       "<pre style=\"white-space:pre;overflow-x:auto;line-height:normal;font-family:Menlo,'DejaVu Sans Mono',consolas,'Courier New',monospace\">╭──────────────────────────────────────────────── skimpy summary ─────────────────────────────────────────────────╮\n",
       "│ <span style=\"font-style: italic\">         Data Summary         </span> <span style=\"font-style: italic\">      Data Types       </span>                                                          │\n",
       "│ ┏━━━━━━━━━━━━━━━━━━━┳━━━━━━━━┓ ┏━━━━━━━━━━━━━┳━━━━━━━┓                                                          │\n",
       "│ ┃<span style=\"color: #008080; text-decoration-color: #008080; font-weight: bold\"> dataframe         </span>┃<span style=\"color: #008080; text-decoration-color: #008080; font-weight: bold\"> Values </span>┃ ┃<span style=\"color: #008080; text-decoration-color: #008080; font-weight: bold\"> Column Type </span>┃<span style=\"color: #008080; text-decoration-color: #008080; font-weight: bold\"> Count </span>┃                                                          │\n",
       "│ ┡━━━━━━━━━━━━━━━━━━━╇━━━━━━━━┩ ┡━━━━━━━━━━━━━╇━━━━━━━┩                                                          │\n",
       "│ │ Number of rows    │ 1059   │ │ int32       │ 6     │                                                          │\n",
       "│ │ Number of columns │ 8      │ │ float64     │ 1     │                                                          │\n",
       "│ └───────────────────┴────────┘ │ string      │ 1     │                                                          │\n",
       "│                                └─────────────┴───────┘                                                          │\n",
       "│ <span style=\"font-style: italic\">                                                    number                                                    </span>  │\n",
       "│ ┏━━━━━━━━━━━━━━━━━━━━━┳━━━━━━━┳━━━━━━━━━━┳━━━━━━━━━┳━━━━━━━━━┳━━━━━━━━┳━━━━━━━━┳━━━━━━━━┳━━━━━━━━━┳━━━━━━━━━━┓  │\n",
       "│ ┃<span style=\"font-weight: bold\"> column_name         </span>┃<span style=\"font-weight: bold\"> NA    </span>┃<span style=\"font-weight: bold\"> NA %     </span>┃<span style=\"font-weight: bold\"> mean    </span>┃<span style=\"font-weight: bold\"> sd      </span>┃<span style=\"font-weight: bold\"> p0     </span>┃<span style=\"font-weight: bold\"> p25    </span>┃<span style=\"font-weight: bold\"> p75    </span>┃<span style=\"font-weight: bold\"> p100    </span>┃<span style=\"font-weight: bold\"> hist     </span>┃  │\n",
       "│ ┡━━━━━━━━━━━━━━━━━━━━━╇━━━━━━━╇━━━━━━━━━━╇━━━━━━━━━╇━━━━━━━━━╇━━━━━━━━╇━━━━━━━━╇━━━━━━━━╇━━━━━━━━━╇━━━━━━━━━━┩  │\n",
       "│ │ <span style=\"color: #af87ff; text-decoration-color: #af87ff\">pH                 </span> │ <span style=\"color: #008080; text-decoration-color: #008080\">    0</span> │ <span style=\"color: #008080; text-decoration-color: #008080\">       0</span> │ <span style=\"color: #008080; text-decoration-color: #008080\">    6.6</span> │ <span style=\"color: #008080; text-decoration-color: #008080\">    1.4</span> │ <span style=\"color: #008080; text-decoration-color: #008080\">     3</span> │ <span style=\"color: #008080; text-decoration-color: #008080\">   6.5</span> │ <span style=\"color: #008080; text-decoration-color: #008080\">   6.8</span> │ <span style=\"color: #008080; text-decoration-color: #008080\">    9.5</span> │ <span style=\"color: #008000; text-decoration-color: #008000\"> ▁▁ █▁▂ </span> │  │\n",
       "│ │ <span style=\"color: #af87ff; text-decoration-color: #af87ff\">Temprature         </span> │ <span style=\"color: #008080; text-decoration-color: #008080\">    0</span> │ <span style=\"color: #008080; text-decoration-color: #008080\">       0</span> │ <span style=\"color: #008080; text-decoration-color: #008080\">     44</span> │ <span style=\"color: #008080; text-decoration-color: #008080\">     10</span> │ <span style=\"color: #008080; text-decoration-color: #008080\">    34</span> │ <span style=\"color: #008080; text-decoration-color: #008080\">    38</span> │ <span style=\"color: #008080; text-decoration-color: #008080\">    45</span> │ <span style=\"color: #008080; text-decoration-color: #008080\">     90</span> │ <span style=\"color: #008000; text-decoration-color: #008000\">  █▄▁▁  </span> │  │\n",
       "│ │ <span style=\"color: #af87ff; text-decoration-color: #af87ff\">Taste              </span> │ <span style=\"color: #008080; text-decoration-color: #008080\">    0</span> │ <span style=\"color: #008080; text-decoration-color: #008080\">       0</span> │ <span style=\"color: #008080; text-decoration-color: #008080\">   0.55</span> │ <span style=\"color: #008080; text-decoration-color: #008080\">    0.5</span> │ <span style=\"color: #008080; text-decoration-color: #008080\">     0</span> │ <span style=\"color: #008080; text-decoration-color: #008080\">     0</span> │ <span style=\"color: #008080; text-decoration-color: #008080\">     1</span> │ <span style=\"color: #008080; text-decoration-color: #008080\">      1</span> │ <span style=\"color: #008000; text-decoration-color: #008000\"> ▇    █ </span> │  │\n",
       "│ │ <span style=\"color: #af87ff; text-decoration-color: #af87ff\">Odor               </span> │ <span style=\"color: #008080; text-decoration-color: #008080\">    0</span> │ <span style=\"color: #008080; text-decoration-color: #008080\">       0</span> │ <span style=\"color: #008080; text-decoration-color: #008080\">   0.43</span> │ <span style=\"color: #008080; text-decoration-color: #008080\">    0.5</span> │ <span style=\"color: #008080; text-decoration-color: #008080\">     0</span> │ <span style=\"color: #008080; text-decoration-color: #008080\">     0</span> │ <span style=\"color: #008080; text-decoration-color: #008080\">     1</span> │ <span style=\"color: #008080; text-decoration-color: #008080\">      1</span> │ <span style=\"color: #008000; text-decoration-color: #008000\"> █    ▆ </span> │  │\n",
       "│ │ <span style=\"color: #af87ff; text-decoration-color: #af87ff\">Fat                </span> │ <span style=\"color: #008080; text-decoration-color: #008080\">    0</span> │ <span style=\"color: #008080; text-decoration-color: #008080\">       0</span> │ <span style=\"color: #008080; text-decoration-color: #008080\">   0.67</span> │ <span style=\"color: #008080; text-decoration-color: #008080\">   0.47</span> │ <span style=\"color: #008080; text-decoration-color: #008080\">     0</span> │ <span style=\"color: #008080; text-decoration-color: #008080\">     0</span> │ <span style=\"color: #008080; text-decoration-color: #008080\">     1</span> │ <span style=\"color: #008080; text-decoration-color: #008080\">      1</span> │ <span style=\"color: #008000; text-decoration-color: #008000\"> ▄    █ </span> │  │\n",
       "│ │ <span style=\"color: #af87ff; text-decoration-color: #af87ff\">Turbidity          </span> │ <span style=\"color: #008080; text-decoration-color: #008080\">    0</span> │ <span style=\"color: #008080; text-decoration-color: #008080\">       0</span> │ <span style=\"color: #008080; text-decoration-color: #008080\">   0.49</span> │ <span style=\"color: #008080; text-decoration-color: #008080\">    0.5</span> │ <span style=\"color: #008080; text-decoration-color: #008080\">     0</span> │ <span style=\"color: #008080; text-decoration-color: #008080\">     0</span> │ <span style=\"color: #008080; text-decoration-color: #008080\">     1</span> │ <span style=\"color: #008080; text-decoration-color: #008080\">      1</span> │ <span style=\"color: #008000; text-decoration-color: #008000\"> █    █ </span> │  │\n",
       "│ │ <span style=\"color: #af87ff; text-decoration-color: #af87ff\">Colour             </span> │ <span style=\"color: #008080; text-decoration-color: #008080\">    0</span> │ <span style=\"color: #008080; text-decoration-color: #008080\">       0</span> │ <span style=\"color: #008080; text-decoration-color: #008080\">    250</span> │ <span style=\"color: #008080; text-decoration-color: #008080\">    4.3</span> │ <span style=\"color: #008080; text-decoration-color: #008080\">   240</span> │ <span style=\"color: #008080; text-decoration-color: #008080\">   250</span> │ <span style=\"color: #008080; text-decoration-color: #008080\">   260</span> │ <span style=\"color: #008080; text-decoration-color: #008080\">    260</span> │ <span style=\"color: #008000; text-decoration-color: #008000\">   ▃ ▂█ </span> │  │\n",
       "│ └─────────────────────┴───────┴──────────┴─────────┴─────────┴────────┴────────┴────────┴─────────┴──────────┘  │\n",
       "│ <span style=\"font-style: italic\">                                                    string                                                    </span>  │\n",
       "│ ┏━━━━━━━━━━━━━━━━━━━━━━━━━━━┳━━━━━━━━━┳━━━━━━━━━━━━┳━━━━━━━━━━━━━━━━━━━━━━━━━━━━━━┳━━━━━━━━━━━━━━━━━━━━━━━━━━┓  │\n",
       "│ ┃<span style=\"font-weight: bold\"> column_name               </span>┃<span style=\"font-weight: bold\"> NA      </span>┃<span style=\"font-weight: bold\"> NA %       </span>┃<span style=\"font-weight: bold\"> words per row                </span>┃<span style=\"font-weight: bold\"> total words              </span>┃  │\n",
       "│ ┡━━━━━━━━━━━━━━━━━━━━━━━━━━━╇━━━━━━━━━╇━━━━━━━━━━━━╇━━━━━━━━━━━━━━━━━━━━━━━━━━━━━━╇━━━━━━━━━━━━━━━━━━━━━━━━━━┩  │\n",
       "│ │ <span style=\"color: #af87ff; text-decoration-color: #af87ff\">Grade                    </span> │ <span style=\"color: #008080; text-decoration-color: #008080\">      0</span> │ <span style=\"color: #008080; text-decoration-color: #008080\">         0</span> │ <span style=\"color: #008080; text-decoration-color: #008080\">                           1</span> │ <span style=\"color: #008080; text-decoration-color: #008080\">                    1100</span> │  │\n",
       "│ └───────────────────────────┴─────────┴────────────┴──────────────────────────────┴──────────────────────────┘  │\n",
       "╰────────────────────────────────────────────────────── End ──────────────────────────────────────────────────────╯\n",
       "</pre>\n"
      ],
      "text/plain": [
       "╭──────────────────────────────────────────────── skimpy summary ─────────────────────────────────────────────────╮\n",
       "│ \u001b[3m         Data Summary         \u001b[0m \u001b[3m      Data Types       \u001b[0m                                                          │\n",
       "│ ┏━━━━━━━━━━━━━━━━━━━┳━━━━━━━━┓ ┏━━━━━━━━━━━━━┳━━━━━━━┓                                                          │\n",
       "│ ┃\u001b[1;36m \u001b[0m\u001b[1;36mdataframe        \u001b[0m\u001b[1;36m \u001b[0m┃\u001b[1;36m \u001b[0m\u001b[1;36mValues\u001b[0m\u001b[1;36m \u001b[0m┃ ┃\u001b[1;36m \u001b[0m\u001b[1;36mColumn Type\u001b[0m\u001b[1;36m \u001b[0m┃\u001b[1;36m \u001b[0m\u001b[1;36mCount\u001b[0m\u001b[1;36m \u001b[0m┃                                                          │\n",
       "│ ┡━━━━━━━━━━━━━━━━━━━╇━━━━━━━━┩ ┡━━━━━━━━━━━━━╇━━━━━━━┩                                                          │\n",
       "│ │ Number of rows    │ 1059   │ │ int32       │ 6     │                                                          │\n",
       "│ │ Number of columns │ 8      │ │ float64     │ 1     │                                                          │\n",
       "│ └───────────────────┴────────┘ │ string      │ 1     │                                                          │\n",
       "│                                └─────────────┴───────┘                                                          │\n",
       "│ \u001b[3m                                                    number                                                    \u001b[0m  │\n",
       "│ ┏━━━━━━━━━━━━━━━━━━━━━┳━━━━━━━┳━━━━━━━━━━┳━━━━━━━━━┳━━━━━━━━━┳━━━━━━━━┳━━━━━━━━┳━━━━━━━━┳━━━━━━━━━┳━━━━━━━━━━┓  │\n",
       "│ ┃\u001b[1m \u001b[0m\u001b[1mcolumn_name        \u001b[0m\u001b[1m \u001b[0m┃\u001b[1m \u001b[0m\u001b[1mNA   \u001b[0m\u001b[1m \u001b[0m┃\u001b[1m \u001b[0m\u001b[1mNA %    \u001b[0m\u001b[1m \u001b[0m┃\u001b[1m \u001b[0m\u001b[1mmean   \u001b[0m\u001b[1m \u001b[0m┃\u001b[1m \u001b[0m\u001b[1msd     \u001b[0m\u001b[1m \u001b[0m┃\u001b[1m \u001b[0m\u001b[1mp0    \u001b[0m\u001b[1m \u001b[0m┃\u001b[1m \u001b[0m\u001b[1mp25   \u001b[0m\u001b[1m \u001b[0m┃\u001b[1m \u001b[0m\u001b[1mp75   \u001b[0m\u001b[1m \u001b[0m┃\u001b[1m \u001b[0m\u001b[1mp100   \u001b[0m\u001b[1m \u001b[0m┃\u001b[1m \u001b[0m\u001b[1mhist    \u001b[0m\u001b[1m \u001b[0m┃  │\n",
       "│ ┡━━━━━━━━━━━━━━━━━━━━━╇━━━━━━━╇━━━━━━━━━━╇━━━━━━━━━╇━━━━━━━━━╇━━━━━━━━╇━━━━━━━━╇━━━━━━━━╇━━━━━━━━━╇━━━━━━━━━━┩  │\n",
       "│ │ \u001b[38;5;141mpH                 \u001b[0m │ \u001b[36m    0\u001b[0m │ \u001b[36m       0\u001b[0m │ \u001b[36m    6.6\u001b[0m │ \u001b[36m    1.4\u001b[0m │ \u001b[36m     3\u001b[0m │ \u001b[36m   6.5\u001b[0m │ \u001b[36m   6.8\u001b[0m │ \u001b[36m    9.5\u001b[0m │ \u001b[32m ▁▁ █▁▂ \u001b[0m │  │\n",
       "│ │ \u001b[38;5;141mTemprature         \u001b[0m │ \u001b[36m    0\u001b[0m │ \u001b[36m       0\u001b[0m │ \u001b[36m     44\u001b[0m │ \u001b[36m     10\u001b[0m │ \u001b[36m    34\u001b[0m │ \u001b[36m    38\u001b[0m │ \u001b[36m    45\u001b[0m │ \u001b[36m     90\u001b[0m │ \u001b[32m  █▄▁▁  \u001b[0m │  │\n",
       "│ │ \u001b[38;5;141mTaste              \u001b[0m │ \u001b[36m    0\u001b[0m │ \u001b[36m       0\u001b[0m │ \u001b[36m   0.55\u001b[0m │ \u001b[36m    0.5\u001b[0m │ \u001b[36m     0\u001b[0m │ \u001b[36m     0\u001b[0m │ \u001b[36m     1\u001b[0m │ \u001b[36m      1\u001b[0m │ \u001b[32m ▇    █ \u001b[0m │  │\n",
       "│ │ \u001b[38;5;141mOdor               \u001b[0m │ \u001b[36m    0\u001b[0m │ \u001b[36m       0\u001b[0m │ \u001b[36m   0.43\u001b[0m │ \u001b[36m    0.5\u001b[0m │ \u001b[36m     0\u001b[0m │ \u001b[36m     0\u001b[0m │ \u001b[36m     1\u001b[0m │ \u001b[36m      1\u001b[0m │ \u001b[32m █    ▆ \u001b[0m │  │\n",
       "│ │ \u001b[38;5;141mFat                \u001b[0m │ \u001b[36m    0\u001b[0m │ \u001b[36m       0\u001b[0m │ \u001b[36m   0.67\u001b[0m │ \u001b[36m   0.47\u001b[0m │ \u001b[36m     0\u001b[0m │ \u001b[36m     0\u001b[0m │ \u001b[36m     1\u001b[0m │ \u001b[36m      1\u001b[0m │ \u001b[32m ▄    █ \u001b[0m │  │\n",
       "│ │ \u001b[38;5;141mTurbidity          \u001b[0m │ \u001b[36m    0\u001b[0m │ \u001b[36m       0\u001b[0m │ \u001b[36m   0.49\u001b[0m │ \u001b[36m    0.5\u001b[0m │ \u001b[36m     0\u001b[0m │ \u001b[36m     0\u001b[0m │ \u001b[36m     1\u001b[0m │ \u001b[36m      1\u001b[0m │ \u001b[32m █    █ \u001b[0m │  │\n",
       "│ │ \u001b[38;5;141mColour             \u001b[0m │ \u001b[36m    0\u001b[0m │ \u001b[36m       0\u001b[0m │ \u001b[36m    250\u001b[0m │ \u001b[36m    4.3\u001b[0m │ \u001b[36m   240\u001b[0m │ \u001b[36m   250\u001b[0m │ \u001b[36m   260\u001b[0m │ \u001b[36m    260\u001b[0m │ \u001b[32m   ▃ ▂█ \u001b[0m │  │\n",
       "│ └─────────────────────┴───────┴──────────┴─────────┴─────────┴────────┴────────┴────────┴─────────┴──────────┘  │\n",
       "│ \u001b[3m                                                    string                                                    \u001b[0m  │\n",
       "│ ┏━━━━━━━━━━━━━━━━━━━━━━━━━━━┳━━━━━━━━━┳━━━━━━━━━━━━┳━━━━━━━━━━━━━━━━━━━━━━━━━━━━━━┳━━━━━━━━━━━━━━━━━━━━━━━━━━┓  │\n",
       "│ ┃\u001b[1m \u001b[0m\u001b[1mcolumn_name              \u001b[0m\u001b[1m \u001b[0m┃\u001b[1m \u001b[0m\u001b[1mNA     \u001b[0m\u001b[1m \u001b[0m┃\u001b[1m \u001b[0m\u001b[1mNA %      \u001b[0m\u001b[1m \u001b[0m┃\u001b[1m \u001b[0m\u001b[1mwords per row               \u001b[0m\u001b[1m \u001b[0m┃\u001b[1m \u001b[0m\u001b[1mtotal words             \u001b[0m\u001b[1m \u001b[0m┃  │\n",
       "│ ┡━━━━━━━━━━━━━━━━━━━━━━━━━━━╇━━━━━━━━━╇━━━━━━━━━━━━╇━━━━━━━━━━━━━━━━━━━━━━━━━━━━━━╇━━━━━━━━━━━━━━━━━━━━━━━━━━┩  │\n",
       "│ │ \u001b[38;5;141mGrade                    \u001b[0m │ \u001b[36m      0\u001b[0m │ \u001b[36m         0\u001b[0m │ \u001b[36m                           1\u001b[0m │ \u001b[36m                    1100\u001b[0m │  │\n",
       "│ └───────────────────────────┴─────────┴────────────┴──────────────────────────────┴──────────────────────────┘  │\n",
       "╰────────────────────────────────────────────────────── End ──────────────────────────────────────────────────────╯\n"
      ]
     },
     "metadata": {},
     "output_type": "display_data"
    }
   ],
   "source": [
    "skim(dataset)"
   ]
  },
  {
   "cell_type": "markdown",
   "id": "66c0e1d8",
   "metadata": {},
   "source": [
    "There is no NaN values"
   ]
  },
  {
   "cell_type": "markdown",
   "id": "cc4d0d23",
   "metadata": {},
   "source": [
    "__Variabels__\n",
    "\n",
    "Independent variabels or X:\n",
    "* pH: ranges from 3.0 to 9.5 max, and an average of 6.63;\n",
    "* Temprature: defines the temperature of the milk and ranges from 34ºC to 90ºC, with an average of 44.22ºC;\n",
    "* Taste: defines Taste of the milk which is categorical data 0 (Bad) or 1 (Good);\n",
    "* Odor: defines the odor of the milk wich is a categorical data where 0 is Bad and 1 is Good;\n",
    "* Fat: values of milk fat´s. This is also a categorical data, where 0 is Low Fat and 1 High Fat;\n",
    "* Turbity: it´s also a categorical data that define the turbity of the milk. The values can be 0 for Low turbity and 1 for High turbity.\n",
    "* Colour: this variabel defines the color of the milk and can have values that ranges from 240 to 255 max, and has an average of 251.8.\n",
    "\n",
    "Dependent variabel or y:\n",
    "* Grade: this variabel defines the Grade of the milk wich is a categorical data where Low is bad quality, Medium is moderate quality and High is good quality."
   ]
  },
  {
   "cell_type": "markdown",
   "id": "19db3a7c",
   "metadata": {},
   "source": [
    "As we can see before our numerical data has diferents ranges so we will have to do some feature scaling."
   ]
  },
  {
   "cell_type": "markdown",
   "id": "e1801c2d",
   "metadata": {},
   "source": [
    "# 1. Exploratory Data Analysis"
   ]
  },
  {
   "cell_type": "code",
   "execution_count": 11,
   "id": "d93351f1",
   "metadata": {},
   "outputs": [
    {
     "data": {
      "text/html": [
       "<div>\n",
       "<style scoped>\n",
       "    .dataframe tbody tr th:only-of-type {\n",
       "        vertical-align: middle;\n",
       "    }\n",
       "\n",
       "    .dataframe tbody tr th {\n",
       "        vertical-align: top;\n",
       "    }\n",
       "\n",
       "    .dataframe thead th {\n",
       "        text-align: right;\n",
       "    }\n",
       "</style>\n",
       "<table border=\"1\" class=\"dataframe\">\n",
       "  <thead>\n",
       "    <tr style=\"text-align: right;\">\n",
       "      <th></th>\n",
       "      <th>pH</th>\n",
       "      <th>Temprature</th>\n",
       "      <th>Taste</th>\n",
       "      <th>Odor</th>\n",
       "      <th>Fat</th>\n",
       "      <th>Turbidity</th>\n",
       "      <th>Colour</th>\n",
       "      <th>Grade</th>\n",
       "    </tr>\n",
       "  </thead>\n",
       "  <tbody>\n",
       "    <tr>\n",
       "      <th>0</th>\n",
       "      <td>6.6</td>\n",
       "      <td>35</td>\n",
       "      <td>1</td>\n",
       "      <td>0</td>\n",
       "      <td>1</td>\n",
       "      <td>0</td>\n",
       "      <td>254</td>\n",
       "      <td>high</td>\n",
       "    </tr>\n",
       "    <tr>\n",
       "      <th>1</th>\n",
       "      <td>6.6</td>\n",
       "      <td>36</td>\n",
       "      <td>0</td>\n",
       "      <td>1</td>\n",
       "      <td>0</td>\n",
       "      <td>1</td>\n",
       "      <td>253</td>\n",
       "      <td>high</td>\n",
       "    </tr>\n",
       "    <tr>\n",
       "      <th>2</th>\n",
       "      <td>8.5</td>\n",
       "      <td>70</td>\n",
       "      <td>1</td>\n",
       "      <td>1</td>\n",
       "      <td>1</td>\n",
       "      <td>1</td>\n",
       "      <td>246</td>\n",
       "      <td>low</td>\n",
       "    </tr>\n",
       "    <tr>\n",
       "      <th>3</th>\n",
       "      <td>9.5</td>\n",
       "      <td>34</td>\n",
       "      <td>1</td>\n",
       "      <td>1</td>\n",
       "      <td>0</td>\n",
       "      <td>1</td>\n",
       "      <td>255</td>\n",
       "      <td>low</td>\n",
       "    </tr>\n",
       "    <tr>\n",
       "      <th>4</th>\n",
       "      <td>6.6</td>\n",
       "      <td>37</td>\n",
       "      <td>0</td>\n",
       "      <td>0</td>\n",
       "      <td>0</td>\n",
       "      <td>0</td>\n",
       "      <td>255</td>\n",
       "      <td>medium</td>\n",
       "    </tr>\n",
       "  </tbody>\n",
       "</table>\n",
       "</div>"
      ],
      "text/plain": [
       "    pH  Temprature  Taste  Odor  Fat  Turbidity  Colour   Grade\n",
       "0  6.6          35      1     0    1          0     254    high\n",
       "1  6.6          36      0     1    0          1     253    high\n",
       "2  8.5          70      1     1    1          1     246     low\n",
       "3  9.5          34      1     1    0          1     255     low\n",
       "4  6.6          37      0     0    0          0     255  medium"
      ]
     },
     "execution_count": 11,
     "metadata": {},
     "output_type": "execute_result"
    }
   ],
   "source": [
    "dataset.head()"
   ]
  },
  {
   "cell_type": "code",
   "execution_count": 12,
   "id": "3827b9bc",
   "metadata": {},
   "outputs": [
    {
     "data": {
      "text/html": [
       "<div>\n",
       "<style scoped>\n",
       "    .dataframe tbody tr th:only-of-type {\n",
       "        vertical-align: middle;\n",
       "    }\n",
       "\n",
       "    .dataframe tbody tr th {\n",
       "        vertical-align: top;\n",
       "    }\n",
       "\n",
       "    .dataframe thead th {\n",
       "        text-align: right;\n",
       "    }\n",
       "</style>\n",
       "<table border=\"1\" class=\"dataframe\">\n",
       "  <thead>\n",
       "    <tr style=\"text-align: right;\">\n",
       "      <th></th>\n",
       "      <th>Taste</th>\n",
       "      <th>Odor</th>\n",
       "      <th>Fat</th>\n",
       "      <th>Turbidity</th>\n",
       "      <th>pH</th>\n",
       "      <th>Temprature</th>\n",
       "      <th>Colour</th>\n",
       "      <th>Grade</th>\n",
       "    </tr>\n",
       "  </thead>\n",
       "  <tbody>\n",
       "    <tr>\n",
       "      <th>0</th>\n",
       "      <td>1</td>\n",
       "      <td>0</td>\n",
       "      <td>1</td>\n",
       "      <td>0</td>\n",
       "      <td>6.6</td>\n",
       "      <td>35</td>\n",
       "      <td>254</td>\n",
       "      <td>high</td>\n",
       "    </tr>\n",
       "    <tr>\n",
       "      <th>1</th>\n",
       "      <td>0</td>\n",
       "      <td>1</td>\n",
       "      <td>0</td>\n",
       "      <td>1</td>\n",
       "      <td>6.6</td>\n",
       "      <td>36</td>\n",
       "      <td>253</td>\n",
       "      <td>high</td>\n",
       "    </tr>\n",
       "    <tr>\n",
       "      <th>2</th>\n",
       "      <td>1</td>\n",
       "      <td>1</td>\n",
       "      <td>1</td>\n",
       "      <td>1</td>\n",
       "      <td>8.5</td>\n",
       "      <td>70</td>\n",
       "      <td>246</td>\n",
       "      <td>low</td>\n",
       "    </tr>\n",
       "    <tr>\n",
       "      <th>3</th>\n",
       "      <td>1</td>\n",
       "      <td>1</td>\n",
       "      <td>0</td>\n",
       "      <td>1</td>\n",
       "      <td>9.5</td>\n",
       "      <td>34</td>\n",
       "      <td>255</td>\n",
       "      <td>low</td>\n",
       "    </tr>\n",
       "    <tr>\n",
       "      <th>4</th>\n",
       "      <td>0</td>\n",
       "      <td>0</td>\n",
       "      <td>0</td>\n",
       "      <td>0</td>\n",
       "      <td>6.6</td>\n",
       "      <td>37</td>\n",
       "      <td>255</td>\n",
       "      <td>medium</td>\n",
       "    </tr>\n",
       "  </tbody>\n",
       "</table>\n",
       "</div>"
      ],
      "text/plain": [
       "   Taste  Odor  Fat  Turbidity   pH  Temprature  Colour   Grade\n",
       "0      1     0    1          0  6.6          35     254    high\n",
       "1      0     1    0          1  6.6          36     253    high\n",
       "2      1     1    1          1  8.5          70     246     low\n",
       "3      1     1    0          1  9.5          34     255     low\n",
       "4      0     0    0          0  6.6          37     255  medium"
      ]
     },
     "execution_count": 12,
     "metadata": {},
     "output_type": "execute_result"
    }
   ],
   "source": [
    "# Let´s organize our independent data (left--categorical data, right--numerical data)\n",
    "dataset =dataset[[\"Taste\",\"Odor\",\"Fat\",\"Turbidity\",\"pH\",\"Temprature\",\"Colour\",\"Grade\"]]\n",
    "dataset.head()"
   ]
  },
  {
   "cell_type": "markdown",
   "id": "e652b372",
   "metadata": {},
   "source": [
    "__Grade__"
   ]
  },
  {
   "cell_type": "code",
   "execution_count": 13,
   "id": "3dc3aa62",
   "metadata": {},
   "outputs": [
    {
     "data": {
      "text/plain": [
       "low       429\n",
       "medium    374\n",
       "high      256\n",
       "Name: Grade, dtype: int64"
      ]
     },
     "execution_count": 13,
     "metadata": {},
     "output_type": "execute_result"
    }
   ],
   "source": [
    "dataset[\"Grade\"].value_counts()"
   ]
  },
  {
   "cell_type": "code",
   "execution_count": 14,
   "id": "233fb8b2",
   "metadata": {},
   "outputs": [],
   "source": [
    "import matplotlib.pyplot as plt\n",
    "import seaborn as sns"
   ]
  },
  {
   "cell_type": "code",
   "execution_count": 15,
   "id": "ecbdfbed",
   "metadata": {},
   "outputs": [
    {
     "data": {
      "image/png": "[encoded data removed]",
      "text/plain": [
       "<Figure size 1000x400 with 2 Axes>"
      ]
     },
     "metadata": {},
     "output_type": "display_data"
    }
   ],
   "source": [
    "plt.figure(figsize=(10,4))\n",
    "\n",
    "plt.subplot(1,2,1)\n",
    "sns.countplot(x=\"Grade\",data = dataset)\n",
    "plt.title(\"Number of Grade Record´s\", fontweight=\"bold\")\n",
    "\n",
    "plt.subplot(1,2,2)\n",
    "plt.pie(dataset[\"Grade\"].value_counts().values,\n",
    "       labels=list(dataset[\"Grade\"].value_counts().index),\n",
    "        wedgeprops = {\"ec\": \"k\"},\n",
    "       textprops = {\"fontsize\":10},\n",
    "       autopct=\"%1.0f%%\")\n",
    "plt.axis(\"equal\")\n",
    "plt.show()"
   ]
  },
  {
   "cell_type": "markdown",
   "id": "89d49f43",
   "metadata": {},
   "source": [
    "As we can see we have an imbalanced dataset. Where must of our dependent values are low quality with 429 record´s and high quality has less record´s with 256. Let´s deal with this problem later."
   ]
  },
  {
   "cell_type": "code",
   "execution_count": 16,
   "id": "71269ef1",
   "metadata": {},
   "outputs": [
    {
     "data": {
      "text/html": [
       "<div>\n",
       "<style scoped>\n",
       "    .dataframe tbody tr th:only-of-type {\n",
       "        vertical-align: middle;\n",
       "    }\n",
       "\n",
       "    .dataframe tbody tr th {\n",
       "        vertical-align: top;\n",
       "    }\n",
       "\n",
       "    .dataframe thead tr th {\n",
       "        text-align: left;\n",
       "    }\n",
       "\n",
       "    .dataframe thead tr:last-of-type th {\n",
       "        text-align: right;\n",
       "    }\n",
       "</style>\n",
       "<table border=\"1\" class=\"dataframe\">\n",
       "  <thead>\n",
       "    <tr>\n",
       "      <th></th>\n",
       "      <th colspan=\"2\" halign=\"left\">Taste</th>\n",
       "      <th colspan=\"2\" halign=\"left\">Odor</th>\n",
       "      <th colspan=\"2\" halign=\"left\">Fat</th>\n",
       "      <th colspan=\"2\" halign=\"left\">Turbidity</th>\n",
       "      <th colspan=\"2\" halign=\"left\">pH</th>\n",
       "      <th colspan=\"2\" halign=\"left\">Temprature</th>\n",
       "      <th colspan=\"2\" halign=\"left\">Colour</th>\n",
       "    </tr>\n",
       "    <tr>\n",
       "      <th></th>\n",
       "      <th>mean</th>\n",
       "      <th>std</th>\n",
       "      <th>mean</th>\n",
       "      <th>std</th>\n",
       "      <th>mean</th>\n",
       "      <th>std</th>\n",
       "      <th>mean</th>\n",
       "      <th>std</th>\n",
       "      <th>mean</th>\n",
       "      <th>std</th>\n",
       "      <th>mean</th>\n",
       "      <th>std</th>\n",
       "      <th>mean</th>\n",
       "      <th>std</th>\n",
       "    </tr>\n",
       "    <tr>\n",
       "      <th>Grade</th>\n",
       "      <th></th>\n",
       "      <th></th>\n",
       "      <th></th>\n",
       "      <th></th>\n",
       "      <th></th>\n",
       "      <th></th>\n",
       "      <th></th>\n",
       "      <th></th>\n",
       "      <th></th>\n",
       "      <th></th>\n",
       "      <th></th>\n",
       "      <th></th>\n",
       "      <th></th>\n",
       "      <th></th>\n",
       "    </tr>\n",
       "  </thead>\n",
       "  <tbody>\n",
       "    <tr>\n",
       "      <th>high</th>\n",
       "      <td>0.664062</td>\n",
       "      <td>0.473242</td>\n",
       "      <td>0.750000</td>\n",
       "      <td>0.433861</td>\n",
       "      <td>0.996094</td>\n",
       "      <td>0.062500</td>\n",
       "      <td>0.632812</td>\n",
       "      <td>0.482982</td>\n",
       "      <td>6.692578</td>\n",
       "      <td>0.108752</td>\n",
       "      <td>40.648438</td>\n",
       "      <td>3.739749</td>\n",
       "      <td>252.539062</td>\n",
       "      <td>3.711989</td>\n",
       "    </tr>\n",
       "    <tr>\n",
       "      <th>low</th>\n",
       "      <td>0.592075</td>\n",
       "      <td>0.492023</td>\n",
       "      <td>0.477855</td>\n",
       "      <td>0.500093</td>\n",
       "      <td>0.727273</td>\n",
       "      <td>0.445882</td>\n",
       "      <td>0.724942</td>\n",
       "      <td>0.447065</td>\n",
       "      <td>6.588578</td>\n",
       "      <td>2.194712</td>\n",
       "      <td>50.289044</td>\n",
       "      <td>13.043794</td>\n",
       "      <td>252.734266</td>\n",
       "      <td>3.233046</td>\n",
       "    </tr>\n",
       "    <tr>\n",
       "      <th>medium</th>\n",
       "      <td>0.414439</td>\n",
       "      <td>0.493285</td>\n",
       "      <td>0.163102</td>\n",
       "      <td>0.369953</td>\n",
       "      <td>0.385027</td>\n",
       "      <td>0.487253</td>\n",
       "      <td>0.125668</td>\n",
       "      <td>0.331919</td>\n",
       "      <td>6.635027</td>\n",
       "      <td>0.130899</td>\n",
       "      <td>39.721925</td>\n",
       "      <td>3.613751</td>\n",
       "      <td>250.336898</td>\n",
       "      <td>5.262430</td>\n",
       "    </tr>\n",
       "  </tbody>\n",
       "</table>\n",
       "</div>"
      ],
      "text/plain": [
       "           Taste                Odor                 Fat           Turbidity  \\\n",
       "            mean       std      mean       std      mean       std      mean   \n",
       "Grade                                                                          \n",
       "high    0.664062  0.473242  0.750000  0.433861  0.996094  0.062500  0.632812   \n",
       "low     0.592075  0.492023  0.477855  0.500093  0.727273  0.445882  0.724942   \n",
       "medium  0.414439  0.493285  0.163102  0.369953  0.385027  0.487253  0.125668   \n",
       "\n",
       "                        pH           Temprature                 Colour  \\\n",
       "             std      mean       std       mean        std        mean   \n",
       "Grade                                                                    \n",
       "high    0.482982  6.692578  0.108752  40.648438   3.739749  252.539062   \n",
       "low     0.447065  6.588578  2.194712  50.289044  13.043794  252.734266   \n",
       "medium  0.331919  6.635027  0.130899  39.721925   3.613751  250.336898   \n",
       "\n",
       "                  \n",
       "             std  \n",
       "Grade             \n",
       "high    3.711989  \n",
       "low     3.233046  \n",
       "medium  5.262430  "
      ]
     },
     "execution_count": 16,
     "metadata": {},
     "output_type": "execute_result"
    }
   ],
   "source": [
    "dataset.groupby(\"Grade\").agg([\"mean\",\"std\"])"
   ]
  },
  {
   "cell_type": "markdown",
   "id": "a132ede8",
   "metadata": {},
   "source": [
    "As we can observe, some variables have slight differences among the grades of milk quality. Odor and Fat are relatively higher in the milk of higher quality, but it's worth taking a closer look later."
   ]
  },
  {
   "cell_type": "markdown",
   "id": "a09dd2a0",
   "metadata": {},
   "source": [
    "## 1.1. Outliers"
   ]
  },
  {
   "cell_type": "markdown",
   "id": "3c3e2599",
   "metadata": {},
   "source": [
    "__Identification__\n",
    "\n",
    "Just for numerical variabels (pH, Temprature, Colour)"
   ]
  },
  {
   "cell_type": "code",
   "execution_count": 17,
   "id": "3e4e2ed9",
   "metadata": {},
   "outputs": [],
   "source": [
    "import warnings\n",
    "warnings.filterwarnings(\"ignore\")"
   ]
  },
  {
   "cell_type": "code",
   "execution_count": 18,
   "id": "649ed8d8",
   "metadata": {},
   "outputs": [],
   "source": [
    "def boxplot(column):\n",
    "    sns.boxplot(dataset[\"Grade\"], dataset[column])\n",
    "    plt.title(\"Boxplot of Grade vs\" + column)"
   ]
  },
  {
   "cell_type": "code",
   "execution_count": 19,
   "id": "b525e7cd",
   "metadata": {},
   "outputs": [
    {
     "data": {
      "image/png": "[encoded data removed]",
      "text/plain": [
       "<Figure size 640x480 with 1 Axes>"
      ]
     },
     "metadata": {},
     "output_type": "display_data"
    }
   ],
   "source": [
    "boxplot(\"pH\")"
   ]
  },
  {
   "cell_type": "markdown",
   "id": "c65774dc",
   "metadata": {},
   "source": [
    "There is no outliers"
   ]
  },
  {
   "cell_type": "code",
   "execution_count": 20,
   "id": "0bb5a3f6",
   "metadata": {},
   "outputs": [
    {
     "data": {
      "image/png": "[encoded data removed]",
      "text/plain": [
       "<Figure size 640x480 with 1 Axes>"
      ]
     },
     "metadata": {},
     "output_type": "display_data"
    }
   ],
   "source": [
    "boxplot(\"Temprature\")"
   ]
  },
  {
   "cell_type": "markdown",
   "id": "af71d8bf",
   "metadata": {},
   "source": [
    "There is just one outlier but it´s not relevant"
   ]
  },
  {
   "cell_type": "code",
   "execution_count": 21,
   "id": "bcc22580",
   "metadata": {},
   "outputs": [
    {
     "data": {
      "image/png": "[encoded data removed]",
      "text/plain": [
       "<Figure size 640x480 with 1 Axes>"
      ]
     },
     "metadata": {},
     "output_type": "display_data"
    }
   ],
   "source": [
    "boxplot(\"Colour\")"
   ]
  },
  {
   "cell_type": "markdown",
   "id": "c1ed5775",
   "metadata": {},
   "source": [
    "There is no outliers"
   ]
  },
  {
   "cell_type": "markdown",
   "id": "c3dca561",
   "metadata": {},
   "source": [
    "## 1.2. Variabels Distribution"
   ]
  },
  {
   "cell_type": "code",
   "execution_count": 22,
   "id": "95e75cc3",
   "metadata": {},
   "outputs": [
    {
     "data": {
      "text/plain": [
       "<seaborn.axisgrid.PairGrid at 0x14604455250>"
      ]
     },
     "execution_count": 22,
     "metadata": {},
     "output_type": "execute_result"
    },
    {
     "data": {
      "image/png": "[encoded data removed]",
      "text/plain": [
       "<Figure size 1750x1750 with 56 Axes>"
      ]
     },
     "metadata": {},
     "output_type": "display_data"
    }
   ],
   "source": [
    "sns.pairplot(dataset)"
   ]
  },
  {
   "cell_type": "markdown",
   "id": "d783d1b2",
   "metadata": {},
   "source": [
    "Considering just the numerical variabels(pH, Temprature and Colour), just the pH apears to have a normal distribution."
   ]
  },
  {
   "cell_type": "markdown",
   "id": "c14da132",
   "metadata": {},
   "source": [
    "__Skewness__"
   ]
  },
  {
   "cell_type": "markdown",
   "id": "d0bb8745",
   "metadata": {},
   "source": [
    "Skewness is a statistical property that measures the degree of asymmetry in a probability distribution. A dataset is considered to be skewed if it is not symmetric, meaning that it is not equally distributed on both sides of its central value. Skewness can be positive or negative, indicating that the tail of the distribution is longer on the right or left side, respectively. The degree of skewness is measured by the skewness coefficient, which is a standardized measure that indicates the degree and direction of skewness. Skewness is an important characteristic of data that can have implications for statistical analysis and modeling.\n",
    "\n",
    "There are two types of skewness: positive skewness and negative skewness. Positive skewness occurs when the tail of the distribution is longer on the right side, or in other words, there are more high values than low values. Negative skewness occurs when the tail of the distribution is longer on the left side, or in other words, there are more low values than high values."
   ]
  },
  {
   "cell_type": "code",
   "execution_count": 23,
   "id": "d58f034e",
   "metadata": {},
   "outputs": [
    {
     "data": {
      "text/plain": [
       "Taste        -0.188058\n",
       "Odor          0.272949\n",
       "Fat          -0.730799\n",
       "Turbidity     0.035940\n",
       "pH           -0.683904\n",
       "Temprature    2.216739\n",
       "Colour       -1.024902\n",
       "dtype: float64"
      ]
     },
     "execution_count": 23,
     "metadata": {},
     "output_type": "execute_result"
    }
   ],
   "source": [
    "dataset.skew()"
   ]
  },
  {
   "cell_type": "markdown",
   "id": "cd154c86",
   "metadata": {},
   "source": [
    "The variable \"Temperature\" has a very high positive skewness value of 2.216739, indicating that its distribution is very skewed to the right. The variabel \"Colour\" has also a very high negative skewness value od -1.0249, indicating that its distribution is very skewed to the left.So let´s deal with that by redusing their skewness"
   ]
  },
  {
   "cell_type": "markdown",
   "id": "e3f1b898",
   "metadata": {},
   "source": [
    "_Temperature_"
   ]
  },
  {
   "cell_type": "code",
   "execution_count": 24,
   "id": "372edd42",
   "metadata": {},
   "outputs": [
    {
     "data": {
      "text/plain": [
       "<AxesSubplot:xlabel='Temprature'>"
      ]
     },
     "execution_count": 24,
     "metadata": {},
     "output_type": "execute_result"
    },
    {
     "data": {
      "image/png": "[encoded data removed]",
      "text/plain": [
       "<Figure size 640x480 with 1 Axes>"
      ]
     },
     "metadata": {},
     "output_type": "display_data"
    }
   ],
   "source": [
    "sns.boxplot(dataset[\"Temprature\"])"
   ]
  },
  {
   "cell_type": "code",
   "execution_count": 25,
   "id": "8ff4a49c",
   "metadata": {},
   "outputs": [],
   "source": [
    "# Let´s remove this some outliers by applying the IQR Method\n",
    "column_temprature = [\"Temprature\"]\n",
    "\n",
    "for i in column_temprature:\n",
    "    q3, q1 = np.percentile(dataset[i], [75, 25])\n",
    "    iqr = q3 - q1\n",
    "    upper_limit = q3 + (1.5 * iqr)\n",
    "    lower_limit = q1 - (1.5 * iqr)\n",
    "    dataset.loc[ (dataset[i]>upper_limit) , i] = upper_limit\n",
    "    dataset.loc[ (dataset[i]<lower_limit), i] = lower_limit"
   ]
  },
  {
   "cell_type": "code",
   "execution_count": 26,
   "id": "7fdeb554",
   "metadata": {},
   "outputs": [
    {
     "data": {
      "text/plain": [
       "<AxesSubplot:xlabel='Temprature'>"
      ]
     },
     "execution_count": 26,
     "metadata": {},
     "output_type": "execute_result"
    },
    {
     "data": {
      "image/png": "[encoded data removed]",
      "text/plain": [
       "<Figure size 640x480 with 1 Axes>"
      ]
     },
     "metadata": {},
     "output_type": "display_data"
    }
   ],
   "source": [
    "sns.boxplot(dataset[\"Temprature\"])"
   ]
  },
  {
   "cell_type": "code",
   "execution_count": 27,
   "id": "cb7a59c6",
   "metadata": {},
   "outputs": [],
   "source": [
    "# Let´s take a look closer to the distribution\n",
    "def distplot(column):\n",
    "    sns.distplot(dataset[column])"
   ]
  },
  {
   "cell_type": "code",
   "execution_count": 28,
   "id": "af992515",
   "metadata": {},
   "outputs": [
    {
     "data": {
      "image/png": "[encoded data removed]",
      "text/plain": [
       "<Figure size 640x480 with 1 Axes>"
      ]
     },
     "metadata": {},
     "output_type": "display_data"
    }
   ],
   "source": [
    "distplot(\"Temprature\")"
   ]
  },
  {
   "cell_type": "code",
   "execution_count": 29,
   "id": "97ac335e",
   "metadata": {},
   "outputs": [],
   "source": [
    "# Let´s do a transformation by applying the power trnaformation(Box-Cox)\n",
    "import scipy.stats as stats\n",
    "dataset[\"Temprature\"], lambda_value = stats.boxcox(dataset[\"Temprature\"])"
   ]
  },
  {
   "cell_type": "code",
   "execution_count": 30,
   "id": "d2d38e21",
   "metadata": {},
   "outputs": [
    {
     "data": {
      "image/png": "[encoded data removed]",
      "text/plain": [
       "<Figure size 640x480 with 1 Axes>"
      ]
     },
     "metadata": {},
     "output_type": "display_data"
    }
   ],
   "source": [
    "distplot(\"Temprature\")"
   ]
  },
  {
   "cell_type": "code",
   "execution_count": 31,
   "id": "f071a7a7",
   "metadata": {},
   "outputs": [
    {
     "data": {
      "text/plain": [
       "0.10709152968895791"
      ]
     },
     "execution_count": 31,
     "metadata": {},
     "output_type": "execute_result"
    }
   ],
   "source": [
    "# Let´s see the skewness value\n",
    "dataset['Temprature'].skew()"
   ]
  },
  {
   "cell_type": "markdown",
   "id": "e6831748",
   "metadata": {},
   "source": [
    "Now it has almost a normal distribution and has a lower skewnes value"
   ]
  },
  {
   "cell_type": "markdown",
   "id": "37038522",
   "metadata": {},
   "source": [
    "_Colour_"
   ]
  },
  {
   "cell_type": "code",
   "execution_count": 32,
   "id": "8d0ff754",
   "metadata": {},
   "outputs": [
    {
     "data": {
      "text/plain": [
       "<AxesSubplot:xlabel='Colour'>"
      ]
     },
     "execution_count": 32,
     "metadata": {},
     "output_type": "execute_result"
    },
    {
     "data": {
      "image/png": "[encoded data removed]",
      "text/plain": [
       "<Figure size 640x480 with 1 Axes>"
      ]
     },
     "metadata": {},
     "output_type": "display_data"
    }
   ],
   "source": [
    "sns.boxplot(dataset[\"Colour\"])"
   ]
  },
  {
   "cell_type": "code",
   "execution_count": 33,
   "id": "eb922b37",
   "metadata": {},
   "outputs": [],
   "source": [
    "# # Let´s remove this some outliers by applying the IQR Method\n",
    "column_colour = [\"Colour\"]\n",
    "\n",
    "for i in column_colour:\n",
    "    q3, q1 = np.percentile(dataset[i], [75, 25])\n",
    "    iqr = q3 - q1\n",
    "    upper_limit = q3 + (1.5 * iqr)\n",
    "    lower_limit = q1 - (1.5 * iqr)\n",
    "    dataset.loc[ (dataset[i]>upper_limit) , i] = upper_limit\n",
    "    dataset.loc[ (dataset[i]<lower_limit), i] = lower_limit"
   ]
  },
  {
   "cell_type": "code",
   "execution_count": 34,
   "id": "da0e6f66",
   "metadata": {},
   "outputs": [
    {
     "data": {
      "text/plain": [
       "<AxesSubplot:xlabel='Colour'>"
      ]
     },
     "execution_count": 34,
     "metadata": {},
     "output_type": "execute_result"
    },
    {
     "data": {
      "image/png": "[encoded data removed]",
      "text/plain": [
       "<Figure size 640x480 with 1 Axes>"
      ]
     },
     "metadata": {},
     "output_type": "display_data"
    }
   ],
   "source": [
    "sns.boxplot(dataset[\"Colour\"])"
   ]
  },
  {
   "cell_type": "code",
   "execution_count": 35,
   "id": "30b5269d",
   "metadata": {},
   "outputs": [
    {
     "data": {
      "image/png": "[encoded data removed]",
      "text/plain": [
       "<Figure size 640x480 with 1 Axes>"
      ]
     },
     "metadata": {},
     "output_type": "display_data"
    }
   ],
   "source": [
    "# Let´s take a look closer to the distribution\n",
    "distplot(\"Colour\")"
   ]
  },
  {
   "cell_type": "code",
   "execution_count": 36,
   "id": "f6763f39",
   "metadata": {},
   "outputs": [],
   "source": [
    "# Let´s apply a sqrt-transformation\n",
    "dataset[\"Colour\"] = np.sqrt(dataset[\"Colour\"])"
   ]
  },
  {
   "cell_type": "code",
   "execution_count": 37,
   "id": "e0ad09b3",
   "metadata": {},
   "outputs": [
    {
     "data": {
      "image/png": "[encoded data removed]",
      "text/plain": [
       "<Figure size 640x480 with 1 Axes>"
      ]
     },
     "metadata": {},
     "output_type": "display_data"
    }
   ],
   "source": [
    "distplot(\"Colour\")"
   ]
  },
  {
   "cell_type": "code",
   "execution_count": 38,
   "id": "2484ce32",
   "metadata": {},
   "outputs": [
    {
     "data": {
      "text/plain": [
       "-0.8676259962227674"
      ]
     },
     "execution_count": 38,
     "metadata": {},
     "output_type": "execute_result"
    }
   ],
   "source": [
    "# Let´s see the skewness value\n",
    "dataset['Colour'].skew()"
   ]
  },
  {
   "cell_type": "markdown",
   "id": "fd2649a2",
   "metadata": {},
   "source": [
    "It doesn´t still has a normal distribution it it is the best we can do"
   ]
  },
  {
   "cell_type": "markdown",
   "id": "c7eb2afb",
   "metadata": {},
   "source": [
    "_pH_"
   ]
  },
  {
   "cell_type": "code",
   "execution_count": 39,
   "id": "9af092e4",
   "metadata": {},
   "outputs": [
    {
     "data": {
      "text/plain": [
       "<AxesSubplot:xlabel='pH'>"
      ]
     },
     "execution_count": 39,
     "metadata": {},
     "output_type": "execute_result"
    },
    {
     "data": {
      "image/png": "[encoded data removed]",
      "text/plain": [
       "<Figure size 640x480 with 1 Axes>"
      ]
     },
     "metadata": {},
     "output_type": "display_data"
    }
   ],
   "source": [
    "sns.boxplot(dataset[\"pH\"])"
   ]
  },
  {
   "cell_type": "code",
   "execution_count": 40,
   "id": "f25ade7b",
   "metadata": {},
   "outputs": [],
   "source": [
    "# Let´s remove this some outliers by applying the IQR Method\n",
    "column_pH = [\"pH\"]\n",
    "\n",
    "for i in column_pH:\n",
    "    q3, q1 = np.percentile(dataset[i], [75, 25])\n",
    "    iqr = q3 - q1\n",
    "    upper_limit = q3 + (1.5 * iqr)\n",
    "    lower_limit = q1 - (1.5 * iqr)\n",
    "    dataset.loc[ (dataset[i]>upper_limit) , i] = upper_limit\n",
    "    dataset.loc[ (dataset[i]<lower_limit), i] = lower_limit"
   ]
  },
  {
   "cell_type": "code",
   "execution_count": 41,
   "id": "4fea98de",
   "metadata": {},
   "outputs": [
    {
     "data": {
      "text/plain": [
       "<AxesSubplot:xlabel='pH'>"
      ]
     },
     "execution_count": 41,
     "metadata": {},
     "output_type": "execute_result"
    },
    {
     "data": {
      "image/png": "[encoded data removed]",
      "text/plain": [
       "<Figure size 640x480 with 1 Axes>"
      ]
     },
     "metadata": {},
     "output_type": "display_data"
    }
   ],
   "source": [
    "sns.boxplot(dataset[\"pH\"])"
   ]
  },
  {
   "cell_type": "code",
   "execution_count": 42,
   "id": "06349fbf",
   "metadata": {},
   "outputs": [
    {
     "data": {
      "image/png": "[encoded data removed]",
      "text/plain": [
       "<Figure size 640x480 with 1 Axes>"
      ]
     },
     "metadata": {},
     "output_type": "display_data"
    }
   ],
   "source": [
    "# Let´s take a look closer to the distribution\n",
    "distplot(\"pH\")"
   ]
  },
  {
   "cell_type": "code",
   "execution_count": 43,
   "id": "daec843b",
   "metadata": {},
   "outputs": [],
   "source": [
    "# Let´s apply a log-transformation to see if we have a distribution closer to a normal\n",
    "dataset[\"pH\"] = np.log(dataset[\"pH\"])"
   ]
  },
  {
   "cell_type": "code",
   "execution_count": 44,
   "id": "4f98f477",
   "metadata": {},
   "outputs": [
    {
     "data": {
      "text/plain": [
       "-0.17949849337978083"
      ]
     },
     "execution_count": 44,
     "metadata": {},
     "output_type": "execute_result"
    }
   ],
   "source": [
    "dataset[\"pH\"].skew()"
   ]
  },
  {
   "cell_type": "code",
   "execution_count": 45,
   "id": "83d9cf8a",
   "metadata": {},
   "outputs": [
    {
     "data": {
      "image/png": "[encoded data removed]",
      "text/plain": [
       "<Figure size 640x480 with 1 Axes>"
      ]
     },
     "metadata": {},
     "output_type": "display_data"
    }
   ],
   "source": [
    "distplot(\"pH\")"
   ]
  },
  {
   "cell_type": "markdown",
   "id": "55e418bc",
   "metadata": {},
   "source": [
    "Now it has almost a normal distribution and a lower skewnes value"
   ]
  },
  {
   "cell_type": "code",
   "execution_count": 46,
   "id": "c203118e",
   "metadata": {},
   "outputs": [
    {
     "data": {
      "text/plain": [
       "Taste        -0.188058\n",
       "Odor          0.272949\n",
       "Fat          -0.730799\n",
       "Turbidity     0.035940\n",
       "pH           -0.179498\n",
       "Temprature    0.107092\n",
       "Colour       -0.867626\n",
       "dtype: float64"
      ]
     },
     "execution_count": 46,
     "metadata": {},
     "output_type": "execute_result"
    }
   ],
   "source": [
    "# Let´s take a lokk to all the skweness values\n",
    "dataset.skew()"
   ]
  },
  {
   "cell_type": "markdown",
   "id": "f140e54e",
   "metadata": {},
   "source": [
    "# 2. Feature Engineer"
   ]
  },
  {
   "cell_type": "markdown",
   "id": "b6a28ab5",
   "metadata": {},
   "source": [
    "## 2.1.Encoding Categorical Data"
   ]
  },
  {
   "cell_type": "markdown",
   "id": "e4291ff7",
   "metadata": {},
   "source": [
    "__Label Encoding__"
   ]
  },
  {
   "cell_type": "markdown",
   "id": "3fd35829",
   "metadata": {},
   "source": [
    "Let´s apply Label Encoder to our Dependent Variabel (y).\n",
    "Label Encoder is a preprocessing technique used in machine learning to convert categorical variables into numerical labels, which can be used as input for various machine learning algorithms. It assigns a unique integer to each category in a feature column, allowing the algorithm to understand the relationship between the categories and make more accurate predictions."
   ]
  },
  {
   "cell_type": "code",
   "execution_count": 47,
   "id": "eab91892",
   "metadata": {},
   "outputs": [],
   "source": [
    "from sklearn.compose import ColumnTransformer\n",
    "from sklearn.preprocessing import LabelEncoder"
   ]
  },
  {
   "cell_type": "code",
   "execution_count": 48,
   "id": "5e0e2c3c",
   "metadata": {},
   "outputs": [
    {
     "data": {
      "text/plain": [
       "array([0, 1, 2])"
      ]
     },
     "execution_count": 48,
     "metadata": {},
     "output_type": "execute_result"
    }
   ],
   "source": [
    "le = LabelEncoder()\n",
    "dataset[\"Grade\"] = le.fit_transform(dataset[\"Grade\"])\n",
    "dataset[\"Grade\"].unique()"
   ]
  },
  {
   "cell_type": "code",
   "execution_count": 49,
   "id": "1ab8c46f",
   "metadata": {},
   "outputs": [
    {
     "data": {
      "text/html": [
       "<div>\n",
       "<style scoped>\n",
       "    .dataframe tbody tr th:only-of-type {\n",
       "        vertical-align: middle;\n",
       "    }\n",
       "\n",
       "    .dataframe tbody tr th {\n",
       "        vertical-align: top;\n",
       "    }\n",
       "\n",
       "    .dataframe thead th {\n",
       "        text-align: right;\n",
       "    }\n",
       "</style>\n",
       "<table border=\"1\" class=\"dataframe\">\n",
       "  <thead>\n",
       "    <tr style=\"text-align: right;\">\n",
       "      <th></th>\n",
       "      <th>Taste</th>\n",
       "      <th>Odor</th>\n",
       "      <th>Fat</th>\n",
       "      <th>Turbidity</th>\n",
       "      <th>pH</th>\n",
       "      <th>Temprature</th>\n",
       "      <th>Colour</th>\n",
       "      <th>Grade</th>\n",
       "    </tr>\n",
       "  </thead>\n",
       "  <tbody>\n",
       "    <tr>\n",
       "      <th>0</th>\n",
       "      <td>1</td>\n",
       "      <td>0</td>\n",
       "      <td>1</td>\n",
       "      <td>0</td>\n",
       "      <td>1.887070</td>\n",
       "      <td>0.458043</td>\n",
       "      <td>15.937377</td>\n",
       "      <td>0</td>\n",
       "    </tr>\n",
       "    <tr>\n",
       "      <th>1</th>\n",
       "      <td>0</td>\n",
       "      <td>1</td>\n",
       "      <td>0</td>\n",
       "      <td>1</td>\n",
       "      <td>1.887070</td>\n",
       "      <td>0.458054</td>\n",
       "      <td>15.905974</td>\n",
       "      <td>0</td>\n",
       "    </tr>\n",
       "    <tr>\n",
       "      <th>2</th>\n",
       "      <td>1</td>\n",
       "      <td>1</td>\n",
       "      <td>1</td>\n",
       "      <td>1</td>\n",
       "      <td>1.981001</td>\n",
       "      <td>0.458167</td>\n",
       "      <td>15.684387</td>\n",
       "      <td>1</td>\n",
       "    </tr>\n",
       "    <tr>\n",
       "      <th>3</th>\n",
       "      <td>1</td>\n",
       "      <td>1</td>\n",
       "      <td>0</td>\n",
       "      <td>1</td>\n",
       "      <td>1.981001</td>\n",
       "      <td>0.458030</td>\n",
       "      <td>15.968719</td>\n",
       "      <td>1</td>\n",
       "    </tr>\n",
       "    <tr>\n",
       "      <th>4</th>\n",
       "      <td>0</td>\n",
       "      <td>0</td>\n",
       "      <td>0</td>\n",
       "      <td>0</td>\n",
       "      <td>1.887070</td>\n",
       "      <td>0.458065</td>\n",
       "      <td>15.968719</td>\n",
       "      <td>2</td>\n",
       "    </tr>\n",
       "  </tbody>\n",
       "</table>\n",
       "</div>"
      ],
      "text/plain": [
       "   Taste  Odor  Fat  Turbidity        pH  Temprature     Colour  Grade\n",
       "0      1     0    1          0  1.887070    0.458043  15.937377      0\n",
       "1      0     1    0          1  1.887070    0.458054  15.905974      0\n",
       "2      1     1    1          1  1.981001    0.458167  15.684387      1\n",
       "3      1     1    0          1  1.981001    0.458030  15.968719      1\n",
       "4      0     0    0          0  1.887070    0.458065  15.968719      2"
      ]
     },
     "execution_count": 49,
     "metadata": {},
     "output_type": "execute_result"
    }
   ],
   "source": [
    "dataset.head()"
   ]
  },
  {
   "cell_type": "markdown",
   "id": "a715759c",
   "metadata": {},
   "source": [
    "## 2.2. Correlation Between Variabels"
   ]
  },
  {
   "cell_type": "code",
   "execution_count": 50,
   "id": "83276c19",
   "metadata": {},
   "outputs": [
    {
     "data": {
      "text/plain": [
       "<AxesSubplot:>"
      ]
     },
     "execution_count": 50,
     "metadata": {},
     "output_type": "execute_result"
    },
    {
     "data": {
      "image/png": "[encoded data removed]",
      "text/plain": [
       "<Figure size 640x480 with 2 Axes>"
      ]
     },
     "metadata": {},
     "output_type": "display_data"
    }
   ],
   "source": [
    "corr = dataset.corr()\n",
    "sns.heatmap(corr, annot=True)"
   ]
  },
  {
   "cell_type": "markdown",
   "id": "0307beef",
   "metadata": {},
   "source": [
    "As we can see by the heatmap none of our variables appear to have a stong correlation with our dependent variabel (Grade). The highest correlation has between the Odor variables. It has negative correlation whith a value of -0.45"
   ]
  },
  {
   "cell_type": "markdown",
   "id": "b07be561",
   "metadata": {},
   "source": [
    "## 2.3. Dealing with Imbalanced Data"
   ]
  },
  {
   "cell_type": "markdown",
   "id": "138a2c06",
   "metadata": {},
   "source": [
    "__SMOTE Method__"
   ]
  },
  {
   "cell_type": "code",
   "execution_count": 51,
   "id": "076af633",
   "metadata": {},
   "outputs": [],
   "source": [
    "#dataset[\"Grade\"].value_counts()"
   ]
  },
  {
   "cell_type": "code",
   "execution_count": 52,
   "id": "99c0243b",
   "metadata": {},
   "outputs": [],
   "source": [
    "#count_class_0, count_class_1, count_class_2 = dataset[\"Grade\"].value_counts()\n",
    "#dataset_0 = dataset[dataset[\"Grade\"]==0]\n",
    "#dataset_1 = dataset[dataset[\"Grade\"]==1]\n",
    "#dataset_2 = dataset[dataset[\"Grade\"]==2]"
   ]
  },
  {
   "cell_type": "code",
   "execution_count": 53,
   "id": "49e3f1b4",
   "metadata": {},
   "outputs": [],
   "source": [
    "#count_class_0, count_class_1, count_class_2"
   ]
  },
  {
   "cell_type": "code",
   "execution_count": 54,
   "id": "859e4448",
   "metadata": {},
   "outputs": [],
   "source": [
    "X = dataset.iloc[:,:-1].values\n",
    "y = dataset.iloc[:,-1].values"
   ]
  },
  {
   "cell_type": "code",
   "execution_count": 55,
   "id": "50baf6de",
   "metadata": {},
   "outputs": [
    {
     "data": {
      "text/plain": [
       "array([[ 1.        ,  0.        ,  1.        , ...,  1.88706965,\n",
       "         0.45804252, 15.93737745],\n",
       "       [ 0.        ,  1.        ,  0.        , ...,  1.88706965,\n",
       "         0.45805419, 15.90597372],\n",
       "       [ 1.        ,  1.        ,  1.        , ...,  1.98100147,\n",
       "         0.45816665, 15.68438714],\n",
       "       ...,\n",
       "       [ 1.        ,  1.        ,  1.        , ...,  1.80005827,\n",
       "         0.45809199, 15.96871942],\n",
       "       [ 1.        ,  0.        ,  1.        , ...,  1.91692261,\n",
       "         0.45811333, 15.8113883 ],\n",
       "       [ 0.        ,  1.        ,  1.        , ...,  1.98100147,\n",
       "         0.45816522, 15.96871942]])"
      ]
     },
     "execution_count": 55,
     "metadata": {},
     "output_type": "execute_result"
    }
   ],
   "source": [
    "X"
   ]
  },
  {
   "cell_type": "code",
   "execution_count": 56,
   "id": "c4554dea",
   "metadata": {},
   "outputs": [
    {
     "data": {
      "text/plain": [
       "array([0, 0, 1, ..., 1, 0, 1])"
      ]
     },
     "execution_count": 56,
     "metadata": {},
     "output_type": "execute_result"
    }
   ],
   "source": [
    "y"
   ]
  },
  {
   "cell_type": "code",
   "execution_count": 57,
   "id": "f9543d75",
   "metadata": {},
   "outputs": [],
   "source": [
    "#from imblearn.over_sampling import SMOTE"
   ]
  },
  {
   "cell_type": "code",
   "execution_count": 58,
   "id": "2258e58b",
   "metadata": {},
   "outputs": [],
   "source": [
    "#smote = SMOTE(sampling_strategy=\"minority\")\n",
    "#X_sm, y_sm = smote.fit_resample(X,y)"
   ]
  },
  {
   "cell_type": "code",
   "execution_count": 59,
   "id": "4b0a6c54",
   "metadata": {},
   "outputs": [],
   "source": [
    "#y_sm.value_counts()"
   ]
  },
  {
   "cell_type": "markdown",
   "id": "e9be6c47",
   "metadata": {},
   "source": [
    "Now our data is almost balanced with a slightly difference"
   ]
  },
  {
   "cell_type": "markdown",
   "id": "1e79400e",
   "metadata": {},
   "source": [
    "## 2.3. Spliting the Data Set into Training Set and Test Set"
   ]
  },
  {
   "cell_type": "code",
   "execution_count": 60,
   "id": "a6dd4e06",
   "metadata": {},
   "outputs": [],
   "source": [
    "#X = X_sm.values\n",
    "#y = y_sm.values"
   ]
  },
  {
   "cell_type": "code",
   "execution_count": 61,
   "id": "8507f21d",
   "metadata": {},
   "outputs": [],
   "source": [
    "from sklearn.model_selection import train_test_split\n",
    "X_train, X_test, y_train, y_test = train_test_split(X, y, test_size=0.2)"
   ]
  },
  {
   "cell_type": "code",
   "execution_count": 62,
   "id": "6c96692f",
   "metadata": {},
   "outputs": [
    {
     "name": "stdout",
     "output_type": "stream",
     "text": [
      "[[ 0.          0.          0.         ...  1.88706965  0.45814835\n",
      "  15.96871942]\n",
      " [ 0.          0.          0.         ...  1.98100147  0.45816665\n",
      "  15.96871942]\n",
      " [ 0.          1.          1.         ...  1.98100147  0.45816522\n",
      "  15.96871942]\n",
      " ...\n",
      " [ 0.          0.          0.         ...  1.88706965  0.45814835\n",
      "  15.8113883 ]\n",
      " [ 0.          0.          0.         ...  1.88706965  0.45812512\n",
      "  15.8113883 ]\n",
      " [ 1.          1.          1.         ...  1.91692261  0.45812512\n",
      "  15.65247584]]\n"
     ]
    }
   ],
   "source": [
    "print(X_train)"
   ]
  },
  {
   "cell_type": "code",
   "execution_count": 63,
   "id": "ddcbd678",
   "metadata": {},
   "outputs": [
    {
     "name": "stdout",
     "output_type": "stream",
     "text": [
      "[[ 1.          0.          1.         ...  1.90210753  0.45807467\n",
      "  15.96871942]\n",
      " [ 1.          0.          1.         ...  1.87180218  0.45807467\n",
      "  15.96871942]\n",
      " [ 0.          0.          0.         ...  1.88706965  0.45807467\n",
      "  15.96871942]\n",
      " ...\n",
      " [ 1.          0.          1.         ...  1.98100147  0.45816665\n",
      "  15.96871942]\n",
      " [ 0.          0.          1.         ...  1.87180218  0.45809199\n",
      "  15.8113883 ]\n",
      " [ 1.          0.          1.         ...  1.98100147  0.45811333\n",
      "  15.8113883 ]]\n"
     ]
    }
   ],
   "source": [
    "print(X_test)"
   ]
  },
  {
   "cell_type": "code",
   "execution_count": 64,
   "id": "4fe24070",
   "metadata": {},
   "outputs": [
    {
     "name": "stdout",
     "output_type": "stream",
     "text": [
      "[1 1 1 1 1 1 1 2 0 0 2 1 2 0 2 1 1 2 0 0 2 1 1 1 1 1 2 2 0 2 2 0 2 2 2 2 2\n",
      " 1 0 0 2 1 0 1 2 1 1 0 1 2 2 1 2 1 1 1 1 2 1 1 2 2 1 1 2 0 1 1 0 2 2 1 2 0\n",
      " 2 1 2 1 1 0 0 1 2 2 1 2 2 1 2 0 1 2 2 1 0 2 0 1 2 0 2 1 1 2 1 2 1 1 1 1 1\n",
      " 0 1 1 1 1 2 2 2 0 1 2 2 1 1 0 0 1 1 1 1 1 1 0 1 0 1 1 0 2 1 2 1 0 0 0 1 2\n",
      " 2 2 2 1 0 0 0 1 1 0 2 0 2 0 2 2 2 2 1 1 1 2 1 2 1 1 2 2 2 1 2 2 1 2 1 1 2\n",
      " 1 0 0 0 0 0 1 2 2 0 2 1 2 1 0 1 2 2 1 1 0 1 2 2 2 2 0 2 1 2 2 0 2 2 1 1 0\n",
      " 0 1 2 2 1 2 0 1 0 0 0 0 2 2 1 0 2 2 2 1 1 1 0 1 1 0 0 1 0 1 1 0 2 0 1 1 2\n",
      " 2 0 2 1 2 2 1 1 1 2 0 2 1 2 1 1 1 1 2 1 0 2 0 0 2 1 2 2 0 2 1 2 2 1 1 1 1\n",
      " 1 1 2 1 2 1 1 0 1 1 2 1 2 2 2 1 0 2 1 1 2 0 2 1 0 0 2 2 0 0 2 2 2 2 2 2 0\n",
      " 2 0 2 1 1 1 2 0 2 1 2 1 1 0 2 2 0 1 2 1 0 0 1 1 2 2 0 2 0 1 2 2 1 1 2 0 2\n",
      " 0 2 1 2 1 2 1 1 1 0 0 1 1 2 0 1 1 0 0 1 1 2 2 1 0 1 1 0 1 0 1 1 2 2 0 2 1\n",
      " 1 0 1 1 1 2 1 2 2 2 0 2 0 0 0 0 0 2 1 2 1 0 0 2 0 0 2 1 0 1 0 2 0 1 1 2 1\n",
      " 1 1 2 1 2 0 0 1 2 1 1 2 0 0 2 2 2 1 1 1 0 1 2 1 0 1 2 1 2 2 0 1 1 0 0 2 0\n",
      " 2 2 1 2 2 1 2 1 0 2 0 1 0 2 0 0 1 1 1 1 2 1 0 1 2 2 0 1 1 2 1 2 2 2 1 2 1\n",
      " 2 2 2 2 0 1 1 1 1 2 1 1 2 2 1 1 1 0 2 2 2 0 1 1 2 1 2 1 1 2 2 2 1 0 1 2 2\n",
      " 1 0 2 2 2 2 2 1 2 2 2 2 1 0 1 2 1 1 1 1 0 0 2 2 0 2 1 0 1 1 1 2 2 2 2 2 1\n",
      " 0 1 2 2 2 2 1 1 1 1 2 1 0 2 1 0 0 0 2 0 0 2 0 0 2 0 1 0 1 1 1 2 1 2 0 2 1\n",
      " 1 2 0 1 1 2 2 1 2 1 1 1 2 1 1 1 0 2 2 2 2 0 2 1 1 0 0 1 2 1 1 2 0 1 1 1 0\n",
      " 0 0 1 1 1 0 2 1 2 1 2 0 0 1 0 2 1 1 1 1 0 0 1 1 2 1 1 1 2 1 0 1 1 0 0 1 1\n",
      " 2 2 0 1 0 0 2 1 0 2 0 1 0 0 2 1 1 2 1 1 2 0 1 2 1 2 1 1 2 1 1 2 0 0 1 1 2\n",
      " 0 1 1 2 0 1 1 0 1 1 1 1 1 1 2 0 0 1 1 2 0 2 2 2 0 0 1 1 1 2 1 2 1 1 1 1 2\n",
      " 0 2 0 1 2 1 2 2 1 1 1 0 1 1 1 0 0 2 0 2 2 2 1 2 0 2 1 0 0 0 2 2 1 0 2 1 1\n",
      " 2 2 0 1 2 0 1 0 0 0 2 0 0 1 1 0 2 1 2 2 0 1 1 2 0 2 1 2 1 2 1 2 0]\n"
     ]
    }
   ],
   "source": [
    "print(y_train)"
   ]
  },
  {
   "cell_type": "code",
   "execution_count": 65,
   "id": "2bb6f19f",
   "metadata": {},
   "outputs": [
    {
     "name": "stdout",
     "output_type": "stream",
     "text": [
      "[0 2 2 0 2 0 2 1 1 1 1 1 2 1 2 0 1 0 1 2 2 1 0 1 2 0 2 1 0 0 2 0 1 0 0 1 1\n",
      " 0 0 1 0 1 2 2 0 0 2 2 1 1 1 1 1 2 1 2 2 0 2 2 0 1 1 1 1 0 2 1 1 2 2 2 2 1\n",
      " 0 2 2 2 1 1 2 1 2 0 1 1 0 1 2 0 2 2 1 0 2 2 1 2 0 2 1 1 0 1 1 0 1 2 0 0 1\n",
      " 1 2 2 0 1 0 2 1 0 2 2 2 1 2 0 2 2 0 1 2 0 1 1 0 1 1 2 1 1 2 2 0 0 0 0 2 2\n",
      " 1 0 1 2 0 1 2 2 2 0 1 0 1 2 1 1 2 2 2 1 1 2 1 2 2 0 1 1 2 1 1 1 2 2 2 1 1\n",
      " 0 1 1 2 2 2 2 1 1 0 0 1 2 1 1 1 2 2 2 0 0 0 1 1 1 2 1]\n"
     ]
    }
   ],
   "source": [
    "print(y_test)"
   ]
  },
  {
   "cell_type": "markdown",
   "id": "7c3c1459",
   "metadata": {},
   "source": [
    "## 2.3. Feature Scaling"
   ]
  },
  {
   "cell_type": "markdown",
   "id": "1d0c28ef",
   "metadata": {},
   "source": [
    "Let´s just apply feature scaling for the numerical data(pH, Temprature and Colour)."
   ]
  },
  {
   "cell_type": "code",
   "execution_count": 66,
   "id": "9e5ea975",
   "metadata": {},
   "outputs": [
    {
     "data": {
      "text/html": [
       "<div>\n",
       "<style scoped>\n",
       "    .dataframe tbody tr th:only-of-type {\n",
       "        vertical-align: middle;\n",
       "    }\n",
       "\n",
       "    .dataframe tbody tr th {\n",
       "        vertical-align: top;\n",
       "    }\n",
       "\n",
       "    .dataframe thead th {\n",
       "        text-align: right;\n",
       "    }\n",
       "</style>\n",
       "<table border=\"1\" class=\"dataframe\">\n",
       "  <thead>\n",
       "    <tr style=\"text-align: right;\">\n",
       "      <th></th>\n",
       "      <th>Taste</th>\n",
       "      <th>Odor</th>\n",
       "      <th>Fat</th>\n",
       "      <th>Turbidity</th>\n",
       "      <th>pH</th>\n",
       "      <th>Temprature</th>\n",
       "      <th>Colour</th>\n",
       "      <th>Grade</th>\n",
       "    </tr>\n",
       "  </thead>\n",
       "  <tbody>\n",
       "    <tr>\n",
       "      <th>0</th>\n",
       "      <td>1</td>\n",
       "      <td>0</td>\n",
       "      <td>1</td>\n",
       "      <td>0</td>\n",
       "      <td>1.887070</td>\n",
       "      <td>0.458043</td>\n",
       "      <td>15.937377</td>\n",
       "      <td>0</td>\n",
       "    </tr>\n",
       "    <tr>\n",
       "      <th>1</th>\n",
       "      <td>0</td>\n",
       "      <td>1</td>\n",
       "      <td>0</td>\n",
       "      <td>1</td>\n",
       "      <td>1.887070</td>\n",
       "      <td>0.458054</td>\n",
       "      <td>15.905974</td>\n",
       "      <td>0</td>\n",
       "    </tr>\n",
       "    <tr>\n",
       "      <th>2</th>\n",
       "      <td>1</td>\n",
       "      <td>1</td>\n",
       "      <td>1</td>\n",
       "      <td>1</td>\n",
       "      <td>1.981001</td>\n",
       "      <td>0.458167</td>\n",
       "      <td>15.684387</td>\n",
       "      <td>1</td>\n",
       "    </tr>\n",
       "    <tr>\n",
       "      <th>3</th>\n",
       "      <td>1</td>\n",
       "      <td>1</td>\n",
       "      <td>0</td>\n",
       "      <td>1</td>\n",
       "      <td>1.981001</td>\n",
       "      <td>0.458030</td>\n",
       "      <td>15.968719</td>\n",
       "      <td>1</td>\n",
       "    </tr>\n",
       "    <tr>\n",
       "      <th>4</th>\n",
       "      <td>0</td>\n",
       "      <td>0</td>\n",
       "      <td>0</td>\n",
       "      <td>0</td>\n",
       "      <td>1.887070</td>\n",
       "      <td>0.458065</td>\n",
       "      <td>15.968719</td>\n",
       "      <td>2</td>\n",
       "    </tr>\n",
       "  </tbody>\n",
       "</table>\n",
       "</div>"
      ],
      "text/plain": [
       "   Taste  Odor  Fat  Turbidity        pH  Temprature     Colour  Grade\n",
       "0      1     0    1          0  1.887070    0.458043  15.937377      0\n",
       "1      0     1    0          1  1.887070    0.458054  15.905974      0\n",
       "2      1     1    1          1  1.981001    0.458167  15.684387      1\n",
       "3      1     1    0          1  1.981001    0.458030  15.968719      1\n",
       "4      0     0    0          0  1.887070    0.458065  15.968719      2"
      ]
     },
     "execution_count": 66,
     "metadata": {},
     "output_type": "execute_result"
    }
   ],
   "source": [
    "dataset.head()"
   ]
  },
  {
   "cell_type": "code",
   "execution_count": 67,
   "id": "9764c8b5",
   "metadata": {},
   "outputs": [
    {
     "name": "stdout",
     "output_type": "stream",
     "text": [
      "[[ 0.          0.          0.         ...  1.88706965  0.45814835\n",
      "  15.96871942]\n",
      " [ 0.          0.          0.         ...  1.98100147  0.45816665\n",
      "  15.96871942]\n",
      " [ 0.          1.          1.         ...  1.98100147  0.45816522\n",
      "  15.96871942]\n",
      " ...\n",
      " [ 0.          0.          0.         ...  1.88706965  0.45814835\n",
      "  15.8113883 ]\n",
      " [ 0.          0.          0.         ...  1.88706965  0.45812512\n",
      "  15.8113883 ]\n",
      " [ 1.          1.          1.         ...  1.91692261  0.45812512\n",
      "  15.65247584]]\n"
     ]
    }
   ],
   "source": [
    "print(X_train)"
   ]
  },
  {
   "cell_type": "markdown",
   "id": "02c2b944",
   "metadata": {},
   "source": [
    "__Standardization__"
   ]
  },
  {
   "cell_type": "code",
   "execution_count": 68,
   "id": "50dea684",
   "metadata": {},
   "outputs": [],
   "source": [
    "from sklearn.preprocessing import StandardScaler"
   ]
  },
  {
   "cell_type": "code",
   "execution_count": 69,
   "id": "74eef40a",
   "metadata": {},
   "outputs": [],
   "source": [
    "sc =StandardScaler()"
   ]
  },
  {
   "cell_type": "code",
   "execution_count": 70,
   "id": "8ffa9880",
   "metadata": {},
   "outputs": [],
   "source": [
    "X_train[:, 4:] = sc.fit_transform(X_train[:, 4:])\n",
    "X_test[:, 4:] = sc.transform(X_test[:, 4:])"
   ]
  },
  {
   "cell_type": "code",
   "execution_count": 71,
   "id": "c5e2bf96",
   "metadata": {},
   "outputs": [
    {
     "name": "stdout",
     "output_type": "stream",
     "text": [
      "[[ 0.          0.          0.         ... -0.21332394  1.14977982\n",
      "   0.76792867]\n",
      " [ 0.          0.          0.         ...  1.45959871  1.62506764\n",
      "   0.76792867]\n",
      " [ 0.          1.          1.         ...  1.45959871  1.58800238\n",
      "   0.76792867]\n",
      " ...\n",
      " [ 0.          0.          0.         ... -0.21332394  1.14977982\n",
      "  -0.44015682]\n",
      " [ 0.          0.          0.         ... -0.21332394  0.5465266\n",
      "  -0.44015682]\n",
      " [ 1.          1.          1.         ...  0.31835636  0.5465266\n",
      "  -1.66038478]]\n"
     ]
    }
   ],
   "source": [
    "print(X_train)"
   ]
  },
  {
   "cell_type": "code",
   "execution_count": 72,
   "id": "98d9e0ae",
   "metadata": {},
   "outputs": [
    {
     "name": "stdout",
     "output_type": "stream",
     "text": [
      "[[ 1.          0.          1.         ...  0.05450017 -0.76403557\n",
      "   0.76792867]\n",
      " [ 1.          0.          1.         ... -0.48523712 -0.76403557\n",
      "   0.76792867]\n",
      " [ 0.          0.          0.         ... -0.21332394 -0.76403557\n",
      "   0.76792867]\n",
      " ...\n",
      " [ 1.          0.          1.         ...  1.45959871  1.62506764\n",
      "   0.76792867]\n",
      " [ 0.          0.          1.         ... -0.48523712 -0.31423943\n",
      "  -0.44015682]\n",
      " [ 1.          0.          1.         ...  1.45959871  0.24021261\n",
      "  -0.44015682]]\n"
     ]
    }
   ],
   "source": [
    "print(X_test)"
   ]
  },
  {
   "cell_type": "markdown",
   "id": "758383b0",
   "metadata": {},
   "source": [
    "# 3. Machine Learning"
   ]
  },
  {
   "cell_type": "markdown",
   "id": "c02a87b4",
   "metadata": {},
   "source": [
    "In this case we are going to buil classification model´s.\n",
    "\n",
    "Classification machine learning models are used to predict the class or category of a given observation based on its features or attributes. The goal of a classification model is to build a function that can take input data and output the class that the data belongs to. There are several types of classification models, including:\n",
    "\n",
    "Logistic Regression: A statistical method that uses a logistic function to model a binary dependent variable.\n",
    "\n",
    "Decision Trees: A model that uses a tree-like structure to represent the relationships between features and class labels.\n",
    "\n",
    "Random Forest: An ensemble model that combines multiple decision trees to improve accuracy.\n",
    "\n",
    "Naive Bayes: A probabilistic model that makes predictions based on the likelihood of each class given the input data.\n",
    "\n",
    "Support Vector Machines (SVM): A model that finds the best boundary (hyperplane) that separates the classes.\n",
    "\n",
    "K-Nearest Neighbors (KNN): A model that classifies new observations based on the closest k training examples in the feature space."
   ]
  },
  {
   "cell_type": "markdown",
   "id": "32c9332d",
   "metadata": {},
   "source": [
    "## 3.1. Model Building"
   ]
  },
  {
   "cell_type": "markdown",
   "id": "82fa174e",
   "metadata": {},
   "source": [
    "#### 3.1.1. Logistic Regression"
   ]
  },
  {
   "cell_type": "code",
   "execution_count": 73,
   "id": "9a97646b",
   "metadata": {},
   "outputs": [],
   "source": [
    "from sklearn.linear_model import LogisticRegression"
   ]
  },
  {
   "cell_type": "code",
   "execution_count": 74,
   "id": "5b5919f3",
   "metadata": {},
   "outputs": [
    {
     "data": {
      "text/plain": [
       "LogisticRegression()"
      ]
     },
     "execution_count": 74,
     "metadata": {},
     "output_type": "execute_result"
    }
   ],
   "source": [
    "logistic = LogisticRegression()\n",
    "logistic.fit(X_train,y_train)"
   ]
  },
  {
   "cell_type": "code",
   "execution_count": 75,
   "id": "880ca6e5",
   "metadata": {},
   "outputs": [
    {
     "name": "stdout",
     "output_type": "stream",
     "text": [
      "[[0 0]\n",
      " [2 2]\n",
      " [2 2]\n",
      " [1 0]\n",
      " [2 2]\n",
      " [0 0]\n",
      " [2 2]\n",
      " [1 1]\n",
      " [1 1]\n",
      " [0 1]\n",
      " [1 1]\n",
      " [0 1]\n",
      " [2 2]\n",
      " [1 1]\n",
      " [2 2]\n",
      " [0 0]\n",
      " [1 1]\n",
      " [0 0]\n",
      " [1 1]\n",
      " [2 2]\n",
      " [2 2]\n",
      " [1 1]\n",
      " [0 0]\n",
      " [1 1]\n",
      " [2 2]\n",
      " [0 0]\n",
      " [2 2]\n",
      " [1 1]\n",
      " [0 0]\n",
      " [0 0]\n",
      " [1 2]\n",
      " [0 0]\n",
      " [2 1]\n",
      " [0 0]\n",
      " [0 0]\n",
      " [2 1]\n",
      " [1 1]\n",
      " [0 0]\n",
      " [1 0]\n",
      " [2 1]\n",
      " [0 0]\n",
      " [1 1]\n",
      " [2 2]\n",
      " [2 2]\n",
      " [0 0]\n",
      " [0 0]\n",
      " [2 2]\n",
      " [1 2]\n",
      " [1 1]\n",
      " [1 1]\n",
      " [1 1]\n",
      " [1 1]\n",
      " [1 1]\n",
      " [2 2]\n",
      " [0 1]\n",
      " [2 2]\n",
      " [2 2]\n",
      " [0 0]\n",
      " [2 2]\n",
      " [2 2]\n",
      " [0 0]\n",
      " [1 1]\n",
      " [2 1]\n",
      " [1 1]\n",
      " [1 1]\n",
      " [0 0]\n",
      " [2 2]\n",
      " [1 1]\n",
      " [2 1]\n",
      " [2 2]\n",
      " [2 2]\n",
      " [1 2]\n",
      " [2 2]\n",
      " [1 1]\n",
      " [0 0]\n",
      " [2 2]\n",
      " [0 2]\n",
      " [2 2]\n",
      " [1 1]\n",
      " [0 1]\n",
      " [2 2]\n",
      " [2 1]\n",
      " [2 2]\n",
      " [1 0]\n",
      " [1 1]\n",
      " [1 1]\n",
      " [0 0]\n",
      " [1 1]\n",
      " [2 2]\n",
      " [0 0]\n",
      " [2 2]\n",
      " [2 2]\n",
      " [1 1]\n",
      " [0 0]\n",
      " [2 2]\n",
      " [1 2]\n",
      " [1 1]\n",
      " [1 2]\n",
      " [0 0]\n",
      " [2 2]\n",
      " [1 1]\n",
      " [1 1]\n",
      " [0 0]\n",
      " [1 1]\n",
      " [1 1]\n",
      " [0 0]\n",
      " [1 1]\n",
      " [2 2]\n",
      " [0 0]\n",
      " [0 0]\n",
      " [2 1]\n",
      " [2 1]\n",
      " [2 2]\n",
      " [1 2]\n",
      " [0 0]\n",
      " [1 1]\n",
      " [0 0]\n",
      " [2 2]\n",
      " [1 1]\n",
      " [0 0]\n",
      " [2 2]\n",
      " [1 2]\n",
      " [1 2]\n",
      " [1 1]\n",
      " [2 2]\n",
      " [0 0]\n",
      " [2 2]\n",
      " [2 2]\n",
      " [0 0]\n",
      " [1 1]\n",
      " [2 2]\n",
      " [0 0]\n",
      " [1 1]\n",
      " [0 1]\n",
      " [0 0]\n",
      " [1 1]\n",
      " [2 1]\n",
      " [2 2]\n",
      " [1 1]\n",
      " [1 1]\n",
      " [2 2]\n",
      " [2 2]\n",
      " [0 0]\n",
      " [0 0]\n",
      " [0 0]\n",
      " [0 0]\n",
      " [2 2]\n",
      " [2 2]\n",
      " [1 1]\n",
      " [0 0]\n",
      " [1 1]\n",
      " [2 2]\n",
      " [0 0]\n",
      " [1 1]\n",
      " [2 2]\n",
      " [2 2]\n",
      " [2 2]\n",
      " [1 0]\n",
      " [0 1]\n",
      " [0 0]\n",
      " [1 1]\n",
      " [2 2]\n",
      " [1 1]\n",
      " [1 1]\n",
      " [2 2]\n",
      " [1 2]\n",
      " [2 2]\n",
      " [1 1]\n",
      " [2 1]\n",
      " [2 2]\n",
      " [1 1]\n",
      " [2 2]\n",
      " [2 2]\n",
      " [0 0]\n",
      " [1 1]\n",
      " [1 1]\n",
      " [2 2]\n",
      " [1 1]\n",
      " [2 1]\n",
      " [1 1]\n",
      " [2 2]\n",
      " [2 2]\n",
      " [1 2]\n",
      " [1 1]\n",
      " [0 1]\n",
      " [0 0]\n",
      " [1 1]\n",
      " [1 1]\n",
      " [2 2]\n",
      " [2 2]\n",
      " [2 2]\n",
      " [2 2]\n",
      " [1 1]\n",
      " [1 1]\n",
      " [0 0]\n",
      " [0 0]\n",
      " [1 1]\n",
      " [2 2]\n",
      " [1 1]\n",
      " [1 1]\n",
      " [1 1]\n",
      " [2 2]\n",
      " [2 2]\n",
      " [2 2]\n",
      " [0 0]\n",
      " [1 0]\n",
      " [0 0]\n",
      " [1 1]\n",
      " [0 1]\n",
      " [1 1]\n",
      " [2 2]\n",
      " [1 1]]\n"
     ]
    }
   ],
   "source": [
    "# Predicting the Test set Results\n",
    "y_pred_logistic = logistic.predict(X_test)\n",
    "np.set_printoptions()\n",
    "print(np.concatenate((y_pred_logistic.reshape(len(y_pred_logistic),1), y_test.reshape(len(y_test),1)), axis=1))"
   ]
  },
  {
   "cell_type": "code",
   "execution_count": 76,
   "id": "521966f8",
   "metadata": {},
   "outputs": [],
   "source": [
    "# Making the Confusion Matrix and See Some Metrics\n",
    "from sklearn.metrics import confusion_matrix, classification_report"
   ]
  },
  {
   "cell_type": "code",
   "execution_count": 77,
   "id": "3c03f1d3",
   "metadata": {
    "scrolled": true
   },
   "outputs": [
    {
     "name": "stdout",
     "output_type": "stream",
     "text": [
      "              precision    recall  f1-score   support\n",
      "\n",
      "           0       0.84      0.90      0.87        52\n",
      "           1       0.81      0.77      0.79        83\n",
      "           2       0.86      0.86      0.86        77\n",
      "\n",
      "    accuracy                           0.83       212\n",
      "   macro avg       0.84      0.84      0.84       212\n",
      "weighted avg       0.83      0.83      0.83       212\n",
      "\n"
     ]
    }
   ],
   "source": [
    "print(classification_report(y_test,y_pred_logistic))"
   ]
  },
  {
   "cell_type": "code",
   "execution_count": 78,
   "id": "b7c29305",
   "metadata": {},
   "outputs": [
    {
     "data": {
      "text/plain": [
       "Text(0.5, 23.52222222222222, 'Predicted label')"
      ]
     },
     "execution_count": 78,
     "metadata": {},
     "output_type": "execute_result"
    },
    {
     "data": {
      "image/png": "[encoded data removed]",
      "text/plain": [
       "<Figure size 640x480 with 2 Axes>"
      ]
     },
     "metadata": {},
     "output_type": "display_data"
    }
   ],
   "source": [
    "cm = confusion_matrix(y_test,y_pred_logistic)\n",
    "p = sns.heatmap(pd.DataFrame(cm), annot=True, cmap=\"YlGnBu\" ,fmt=\"g\")\n",
    "plt.title('Logistic Regression Confusion matrix', y=1.1)\n",
    "plt.ylabel('Actual label')\n",
    "plt.xlabel('Predicted label')"
   ]
  },
  {
   "cell_type": "markdown",
   "id": "fc2a45c6",
   "metadata": {},
   "source": [
    "The model appears to have some struggles to identify the class 1"
   ]
  },
  {
   "cell_type": "code",
   "execution_count": 79,
   "id": "7166ae0a",
   "metadata": {},
   "outputs": [
    {
     "name": "stdout",
     "output_type": "stream",
     "text": [
      "Logistic Regression Accuracy: 78.04 %\n",
      "Logistic Regression Standard Deviation: 5.05 %\n"
     ]
    }
   ],
   "source": [
    "# K-Fold Cross Validation\n",
    "from sklearn.model_selection import cross_val_score\n",
    "accuracies_logistic = cross_val_score(estimator = logistic, X = X_train, y = y_train, cv = 10)\n",
    "print(\"Logistic Regression Accuracy: {:.2f} %\".format(accuracies_logistic.mean() * 100))\n",
    "print(\"Logistic Regression Standard Deviation: {:.2f} %\".format(accuracies_logistic.std() * 100))"
   ]
  },
  {
   "cell_type": "markdown",
   "id": "6aac7843",
   "metadata": {},
   "source": [
    "__Hyperparameter Tunning__"
   ]
  },
  {
   "cell_type": "code",
   "execution_count": 80,
   "id": "52427336",
   "metadata": {},
   "outputs": [],
   "source": [
    "from sklearn.model_selection import GridSearchCV"
   ]
  },
  {
   "cell_type": "code",
   "execution_count": 81,
   "id": "4764edef",
   "metadata": {},
   "outputs": [
    {
     "name": "stdout",
     "output_type": "stream",
     "text": [
      "Fitting 5 folds for each of 360 candidates, totalling 1800 fits\n",
      "Best hyperparameters:  {'C': 10, 'max_iter': 1000, 'penalty': 'l2', 'solver': 'sag'}\n",
      "Best accuracy score:  0.7851374869474418\n"
     ]
    }
   ],
   "source": [
    "# create logistic regression model\n",
    "lr = LogisticRegression()\n",
    "\n",
    "# define hyperparameters to tune\n",
    "param_grid = {\n",
    "    'penalty': ['l1', 'l2', 'elasticnet', 'none'],\n",
    "    'C': [0.001, 0.01, 0.1, 1, 10, 100],\n",
    "    'solver': ['newton-cg', 'lbfgs', 'liblinear', 'sag', 'saga'],\n",
    "    'max_iter': [100, 500, 1000]\n",
    "}\n",
    "\n",
    "# define grid search with 5-fold cross-validation\n",
    "grid = GridSearchCV(lr, param_grid, cv=5, verbose=1, n_jobs=-1)\n",
    "\n",
    "# fit grid search to the data\n",
    "grid.fit(X_train, y_train)\n",
    "\n",
    "# print best hyperparameters and accuracy score\n",
    "print(\"Best hyperparameters: \", grid.best_params_)\n",
    "print(\"Best accuracy score: \", grid.best_score_)\n"
   ]
  },
  {
   "cell_type": "markdown",
   "id": "ab11ce06",
   "metadata": {},
   "source": [
    "### 3.1.2. K-NN (K-Nearest Neighbors)"
   ]
  },
  {
   "cell_type": "code",
   "execution_count": 82,
   "id": "409af623",
   "metadata": {},
   "outputs": [],
   "source": [
    "from sklearn.neighbors import KNeighborsClassifier "
   ]
  },
  {
   "cell_type": "code",
   "execution_count": 83,
   "id": "4e92dce5",
   "metadata": {},
   "outputs": [
    {
     "data": {
      "text/plain": [
       "KNeighborsClassifier()"
      ]
     },
     "execution_count": 83,
     "metadata": {},
     "output_type": "execute_result"
    }
   ],
   "source": [
    "knn = KNeighborsClassifier(n_neighbors=5, metric = \"minkowski\", p = 2)\n",
    "knn.fit(X_train, y_train)"
   ]
  },
  {
   "cell_type": "code",
   "execution_count": 84,
   "id": "434ccc27",
   "metadata": {},
   "outputs": [
    {
     "name": "stdout",
     "output_type": "stream",
     "text": [
      "[[0 0]\n",
      " [2 2]\n",
      " [2 2]\n",
      " [0 0]\n",
      " [2 2]\n",
      " [0 0]\n",
      " [2 2]\n",
      " [1 1]\n",
      " [1 1]\n",
      " [1 1]\n",
      " [1 1]\n",
      " [1 1]\n",
      " [2 2]\n",
      " [1 1]\n",
      " [2 2]\n",
      " [0 0]\n",
      " [1 1]\n",
      " [0 0]\n",
      " [1 1]\n",
      " [2 2]\n",
      " [2 2]\n",
      " [1 1]\n",
      " [0 0]\n",
      " [1 1]\n",
      " [2 2]\n",
      " [0 0]\n",
      " [2 2]\n",
      " [1 1]\n",
      " [0 0]\n",
      " [0 0]\n",
      " [2 2]\n",
      " [0 0]\n",
      " [1 1]\n",
      " [0 0]\n",
      " [0 0]\n",
      " [1 1]\n",
      " [1 1]\n",
      " [0 0]\n",
      " [0 0]\n",
      " [1 1]\n",
      " [0 0]\n",
      " [1 1]\n",
      " [2 2]\n",
      " [2 2]\n",
      " [0 0]\n",
      " [0 0]\n",
      " [2 2]\n",
      " [2 2]\n",
      " [1 1]\n",
      " [1 1]\n",
      " [1 1]\n",
      " [1 1]\n",
      " [1 1]\n",
      " [2 2]\n",
      " [1 1]\n",
      " [2 2]\n",
      " [2 2]\n",
      " [0 0]\n",
      " [2 2]\n",
      " [2 2]\n",
      " [0 0]\n",
      " [1 1]\n",
      " [1 1]\n",
      " [1 1]\n",
      " [1 1]\n",
      " [0 0]\n",
      " [2 2]\n",
      " [1 1]\n",
      " [1 1]\n",
      " [2 2]\n",
      " [2 2]\n",
      " [2 2]\n",
      " [0 2]\n",
      " [1 1]\n",
      " [0 0]\n",
      " [2 2]\n",
      " [2 2]\n",
      " [2 2]\n",
      " [1 1]\n",
      " [1 1]\n",
      " [2 2]\n",
      " [1 1]\n",
      " [2 2]\n",
      " [0 0]\n",
      " [1 1]\n",
      " [1 1]\n",
      " [0 0]\n",
      " [1 1]\n",
      " [2 2]\n",
      " [0 0]\n",
      " [2 2]\n",
      " [2 2]\n",
      " [1 1]\n",
      " [0 0]\n",
      " [2 2]\n",
      " [2 2]\n",
      " [1 1]\n",
      " [2 2]\n",
      " [0 0]\n",
      " [2 2]\n",
      " [1 1]\n",
      " [1 1]\n",
      " [0 0]\n",
      " [1 1]\n",
      " [1 1]\n",
      " [0 0]\n",
      " [1 1]\n",
      " [2 2]\n",
      " [0 0]\n",
      " [0 0]\n",
      " [1 1]\n",
      " [1 1]\n",
      " [2 2]\n",
      " [2 2]\n",
      " [0 0]\n",
      " [1 1]\n",
      " [0 0]\n",
      " [2 2]\n",
      " [1 1]\n",
      " [0 0]\n",
      " [2 2]\n",
      " [2 2]\n",
      " [2 2]\n",
      " [1 1]\n",
      " [2 2]\n",
      " [0 0]\n",
      " [2 2]\n",
      " [2 2]\n",
      " [0 0]\n",
      " [1 1]\n",
      " [2 2]\n",
      " [0 0]\n",
      " [1 1]\n",
      " [1 1]\n",
      " [0 0]\n",
      " [1 1]\n",
      " [1 1]\n",
      " [2 2]\n",
      " [1 1]\n",
      " [1 1]\n",
      " [2 2]\n",
      " [2 2]\n",
      " [0 0]\n",
      " [0 0]\n",
      " [0 0]\n",
      " [0 0]\n",
      " [2 2]\n",
      " [2 2]\n",
      " [1 1]\n",
      " [0 0]\n",
      " [1 1]\n",
      " [2 2]\n",
      " [0 0]\n",
      " [1 1]\n",
      " [2 2]\n",
      " [2 2]\n",
      " [2 2]\n",
      " [0 0]\n",
      " [1 1]\n",
      " [0 0]\n",
      " [1 1]\n",
      " [2 2]\n",
      " [1 1]\n",
      " [1 1]\n",
      " [2 2]\n",
      " [2 2]\n",
      " [2 2]\n",
      " [1 1]\n",
      " [1 1]\n",
      " [2 2]\n",
      " [1 1]\n",
      " [2 2]\n",
      " [2 2]\n",
      " [0 0]\n",
      " [1 1]\n",
      " [1 1]\n",
      " [2 2]\n",
      " [1 1]\n",
      " [1 1]\n",
      " [1 1]\n",
      " [2 2]\n",
      " [2 2]\n",
      " [2 2]\n",
      " [1 1]\n",
      " [1 1]\n",
      " [0 0]\n",
      " [1 1]\n",
      " [1 1]\n",
      " [2 2]\n",
      " [2 2]\n",
      " [2 2]\n",
      " [2 2]\n",
      " [1 1]\n",
      " [1 1]\n",
      " [0 0]\n",
      " [0 0]\n",
      " [1 1]\n",
      " [2 2]\n",
      " [1 1]\n",
      " [1 1]\n",
      " [1 1]\n",
      " [2 2]\n",
      " [2 2]\n",
      " [2 2]\n",
      " [0 0]\n",
      " [0 0]\n",
      " [0 0]\n",
      " [1 1]\n",
      " [1 1]\n",
      " [1 1]\n",
      " [0 2]\n",
      " [1 1]]\n"
     ]
    }
   ],
   "source": [
    "# Predicting the Test set Results\n",
    "y_pred_knn = knn.predict(X_test)\n",
    "np.set_printoptions()\n",
    "print(np.concatenate((y_pred_knn.reshape(len(y_pred_knn),1), y_test.reshape(len(y_test),1)), axis=1))"
   ]
  },
  {
   "cell_type": "code",
   "execution_count": 85,
   "id": "e534af3c",
   "metadata": {},
   "outputs": [
    {
     "name": "stdout",
     "output_type": "stream",
     "text": [
      "              precision    recall  f1-score   support\n",
      "\n",
      "           0       0.96      1.00      0.98        52\n",
      "           1       1.00      1.00      1.00        83\n",
      "           2       1.00      0.97      0.99        77\n",
      "\n",
      "    accuracy                           0.99       212\n",
      "   macro avg       0.99      0.99      0.99       212\n",
      "weighted avg       0.99      0.99      0.99       212\n",
      "\n"
     ]
    }
   ],
   "source": [
    "# Making the Confusion Matrix and See Some Metrics\n",
    "print(classification_report(y_test,y_pred_knn))"
   ]
  },
  {
   "cell_type": "markdown",
   "id": "5d44b39f",
   "metadata": {},
   "source": [
    "The model appears to be overfit"
   ]
  },
  {
   "cell_type": "markdown",
   "id": "1023b73f",
   "metadata": {},
   "source": [
    "This looks like a perfect classification result. However, it is important to note that achieving 100% precision, recall, and F1-score in a classification problem is quite rare and could indicate overfitting. Therefore, it is essential to evaluate the model on unseen data using techniques like K-fold cross-validation to ensure the model's performance generalizes well to new data."
   ]
  },
  {
   "cell_type": "code",
   "execution_count": 86,
   "id": "7cea9127",
   "metadata": {},
   "outputs": [
    {
     "data": {
      "text/plain": [
       "Text(0.5, 23.52222222222222, 'Predicted label')"
      ]
     },
     "execution_count": 86,
     "metadata": {},
     "output_type": "execute_result"
    },
    {
     "data": {
      "image/png": "[encoded data removed]",
      "text/plain": [
       "<Figure size 640x480 with 2 Axes>"
      ]
     },
     "metadata": {},
     "output_type": "display_data"
    }
   ],
   "source": [
    "cm_knn = confusion_matrix(y_test,y_pred_knn)\n",
    "p = sns.heatmap(pd.DataFrame(cm_knn), annot=True, cmap=\"YlGnBu\" ,fmt=\"g\")\n",
    "plt.title('KNN  Confusion matrix', y=1.1)\n",
    "plt.ylabel('Actual label')\n",
    "plt.xlabel('Predicted label')"
   ]
  },
  {
   "cell_type": "code",
   "execution_count": 87,
   "id": "a29c1448",
   "metadata": {},
   "outputs": [
    {
     "name": "stdout",
     "output_type": "stream",
     "text": [
      "KNN Accuracy: 99.41 %\n",
      "KNN Standard Deviation: 0.80 %\n"
     ]
    }
   ],
   "source": [
    "# K-Fold Cross Validation\n",
    "accuracies_knn = cross_val_score(estimator = knn, X = X_train, y = y_train, cv = 10)\n",
    "print(\"KNN Accuracy: {:.2f} %\".format(accuracies_knn.mean() * 100))\n",
    "print(\"KNN Standard Deviation: {:.2f} %\".format(accuracies_knn.std() * 100))"
   ]
  },
  {
   "cell_type": "code",
   "execution_count": 88,
   "id": "6e913d0c",
   "metadata": {},
   "outputs": [
    {
     "name": "stdout",
     "output_type": "stream",
     "text": [
      "Best hyperparameters:  {'metric': 'euclidean', 'n_neighbors': 3, 'weights': 'distance'}\n",
      "Best accuracy score:  0.9988165680473372\n"
     ]
    }
   ],
   "source": [
    "# define the parameter grid\n",
    "param_grid = {'n_neighbors': [3, 5, 7, 9, 11], 'weights': ['uniform', 'distance'], 'metric': ['euclidean', 'manhattan']}\n",
    "\n",
    "# create a KNN model\n",
    "knn = KNeighborsClassifier()\n",
    "\n",
    "# create a GridSearchCV object\n",
    "grid = GridSearchCV(knn, param_grid, cv=5, scoring='accuracy')\n",
    "\n",
    "# fit the GridSearchCV object to the data\n",
    "grid.fit(X_train, y_train)\n",
    "\n",
    "# print the best hyperparameters and best accuracy score\n",
    "print('Best hyperparameters: ', grid.best_params_)\n",
    "print('Best accuracy score: ', grid.best_score_)"
   ]
  },
  {
   "cell_type": "markdown",
   "id": "b5bf2a8b",
   "metadata": {},
   "source": [
    "### 3.1.3. SVM (Support Vector Machine)"
   ]
  },
  {
   "cell_type": "code",
   "execution_count": 89,
   "id": "cb1e6d07",
   "metadata": {},
   "outputs": [],
   "source": [
    "from sklearn.svm import SVC"
   ]
  },
  {
   "cell_type": "code",
   "execution_count": 90,
   "id": "df778fee",
   "metadata": {},
   "outputs": [
    {
     "data": {
      "text/plain": [
       "SVC(kernel='linear')"
      ]
     },
     "execution_count": 90,
     "metadata": {},
     "output_type": "execute_result"
    }
   ],
   "source": [
    "svm = SVC(kernel=\"linear\")\n",
    "svm.fit(X_train,y_train)"
   ]
  },
  {
   "cell_type": "code",
   "execution_count": 91,
   "id": "083017c3",
   "metadata": {},
   "outputs": [
    {
     "name": "stdout",
     "output_type": "stream",
     "text": [
      "[[0 0]\n",
      " [2 2]\n",
      " [2 2]\n",
      " [1 0]\n",
      " [2 2]\n",
      " [0 0]\n",
      " [2 2]\n",
      " [1 1]\n",
      " [1 1]\n",
      " [0 1]\n",
      " [1 1]\n",
      " [0 1]\n",
      " [2 2]\n",
      " [1 1]\n",
      " [2 2]\n",
      " [0 0]\n",
      " [1 1]\n",
      " [0 0]\n",
      " [1 1]\n",
      " [2 2]\n",
      " [2 2]\n",
      " [1 1]\n",
      " [0 0]\n",
      " [1 1]\n",
      " [2 2]\n",
      " [0 0]\n",
      " [2 2]\n",
      " [1 1]\n",
      " [0 0]\n",
      " [0 0]\n",
      " [1 2]\n",
      " [0 0]\n",
      " [2 1]\n",
      " [0 0]\n",
      " [0 0]\n",
      " [2 1]\n",
      " [1 1]\n",
      " [0 0]\n",
      " [1 0]\n",
      " [2 1]\n",
      " [0 0]\n",
      " [1 1]\n",
      " [2 2]\n",
      " [2 2]\n",
      " [0 0]\n",
      " [0 0]\n",
      " [2 2]\n",
      " [1 2]\n",
      " [1 1]\n",
      " [1 1]\n",
      " [1 1]\n",
      " [1 1]\n",
      " [2 1]\n",
      " [2 2]\n",
      " [0 1]\n",
      " [2 2]\n",
      " [2 2]\n",
      " [2 0]\n",
      " [2 2]\n",
      " [2 2]\n",
      " [0 0]\n",
      " [1 1]\n",
      " [2 1]\n",
      " [1 1]\n",
      " [1 1]\n",
      " [0 0]\n",
      " [2 2]\n",
      " [1 1]\n",
      " [2 1]\n",
      " [2 2]\n",
      " [2 2]\n",
      " [1 2]\n",
      " [2 2]\n",
      " [1 1]\n",
      " [0 0]\n",
      " [2 2]\n",
      " [2 2]\n",
      " [2 2]\n",
      " [1 1]\n",
      " [0 1]\n",
      " [2 2]\n",
      " [2 1]\n",
      " [2 2]\n",
      " [1 0]\n",
      " [1 1]\n",
      " [1 1]\n",
      " [0 0]\n",
      " [1 1]\n",
      " [2 2]\n",
      " [0 0]\n",
      " [2 2]\n",
      " [2 2]\n",
      " [1 1]\n",
      " [0 0]\n",
      " [2 2]\n",
      " [1 2]\n",
      " [1 1]\n",
      " [1 2]\n",
      " [2 0]\n",
      " [2 2]\n",
      " [1 1]\n",
      " [2 1]\n",
      " [0 0]\n",
      " [1 1]\n",
      " [1 1]\n",
      " [0 0]\n",
      " [1 1]\n",
      " [2 2]\n",
      " [0 0]\n",
      " [0 0]\n",
      " [2 1]\n",
      " [2 1]\n",
      " [2 2]\n",
      " [1 2]\n",
      " [0 0]\n",
      " [2 1]\n",
      " [0 0]\n",
      " [2 2]\n",
      " [1 1]\n",
      " [0 0]\n",
      " [2 2]\n",
      " [2 2]\n",
      " [2 2]\n",
      " [1 1]\n",
      " [2 2]\n",
      " [0 0]\n",
      " [2 2]\n",
      " [2 2]\n",
      " [0 0]\n",
      " [1 1]\n",
      " [2 2]\n",
      " [2 0]\n",
      " [1 1]\n",
      " [0 1]\n",
      " [0 0]\n",
      " [1 1]\n",
      " [2 1]\n",
      " [2 2]\n",
      " [1 1]\n",
      " [1 1]\n",
      " [2 2]\n",
      " [2 2]\n",
      " [0 0]\n",
      " [0 0]\n",
      " [0 0]\n",
      " [0 0]\n",
      " [2 2]\n",
      " [2 2]\n",
      " [1 1]\n",
      " [0 0]\n",
      " [1 1]\n",
      " [2 2]\n",
      " [0 0]\n",
      " [1 1]\n",
      " [2 2]\n",
      " [2 2]\n",
      " [2 2]\n",
      " [2 0]\n",
      " [0 1]\n",
      " [0 0]\n",
      " [1 1]\n",
      " [2 2]\n",
      " [2 1]\n",
      " [1 1]\n",
      " [2 2]\n",
      " [2 2]\n",
      " [2 2]\n",
      " [2 1]\n",
      " [2 1]\n",
      " [2 2]\n",
      " [1 1]\n",
      " [2 2]\n",
      " [2 2]\n",
      " [0 0]\n",
      " [2 1]\n",
      " [1 1]\n",
      " [2 2]\n",
      " [1 1]\n",
      " [2 1]\n",
      " [1 1]\n",
      " [2 2]\n",
      " [2 2]\n",
      " [1 2]\n",
      " [1 1]\n",
      " [0 1]\n",
      " [0 0]\n",
      " [1 1]\n",
      " [1 1]\n",
      " [2 2]\n",
      " [2 2]\n",
      " [2 2]\n",
      " [2 2]\n",
      " [1 1]\n",
      " [1 1]\n",
      " [0 0]\n",
      " [0 0]\n",
      " [1 1]\n",
      " [2 2]\n",
      " [1 1]\n",
      " [2 1]\n",
      " [1 1]\n",
      " [2 2]\n",
      " [2 2]\n",
      " [2 2]\n",
      " [2 0]\n",
      " [1 0]\n",
      " [0 0]\n",
      " [1 1]\n",
      " [0 1]\n",
      " [1 1]\n",
      " [2 2]\n",
      " [1 1]]\n"
     ]
    }
   ],
   "source": [
    "# Predicitng the Test set Results\n",
    "y_pred_svm = svm.predict(X_test)\n",
    "np.set_printoptions()\n",
    "print(np.concatenate((y_pred_svm.reshape(len(y_pred_svm),1), y_test.reshape(len(y_test),1)), axis=1))"
   ]
  },
  {
   "cell_type": "code",
   "execution_count": 92,
   "id": "bf152c41",
   "metadata": {},
   "outputs": [
    {
     "name": "stdout",
     "output_type": "stream",
     "text": [
      "              precision    recall  f1-score   support\n",
      "\n",
      "           0       0.84      0.83      0.83        52\n",
      "           1       0.84      0.69      0.75        83\n",
      "           2       0.75      0.91      0.82        77\n",
      "\n",
      "    accuracy                           0.80       212\n",
      "   macro avg       0.81      0.81      0.80       212\n",
      "weighted avg       0.81      0.80      0.80       212\n",
      "\n"
     ]
    }
   ],
   "source": [
    "# Making the Confusion Matrix and See Some Metrics\n",
    "print(classification_report(y_test,y_pred_svm))"
   ]
  },
  {
   "cell_type": "code",
   "execution_count": 93,
   "id": "6dd8e39e",
   "metadata": {},
   "outputs": [
    {
     "data": {
      "text/plain": [
       "Text(0.5, 23.52222222222222, 'Predicted label')"
      ]
     },
     "execution_count": 93,
     "metadata": {},
     "output_type": "execute_result"
    },
    {
     "data": {
      "image/png": "[encoded data removed]",
      "text/plain": [
       "<Figure size 640x480 with 2 Axes>"
      ]
     },
     "metadata": {},
     "output_type": "display_data"
    }
   ],
   "source": [
    "cm_svm = confusion_matrix(y_test,y_pred_svm)\n",
    "p = sns.heatmap(pd.DataFrame(cm_svm), annot=True, cmap=\"YlGnBu\" ,fmt=\"g\")\n",
    "plt.title('SVM  Confusion matrix', y=1.1)\n",
    "plt.ylabel('Actual label')\n",
    "plt.xlabel('Predicted label')"
   ]
  },
  {
   "cell_type": "code",
   "execution_count": 94,
   "id": "3be2020b",
   "metadata": {},
   "outputs": [
    {
     "name": "stdout",
     "output_type": "stream",
     "text": [
      "SVM Accuracy: 80.29 %\n",
      "SVM Standard Deviation: 5.09 %\n"
     ]
    }
   ],
   "source": [
    "# K-Fold Cross Validation\n",
    "accuracies_svm = cross_val_score(estimator = svm, X = X_train, y = y_train, cv = 10)\n",
    "print(\"SVM Accuracy: {:.2f} %\".format(accuracies_svm.mean() * 100))\n",
    "print(\"SVM Standard Deviation: {:.2f} %\".format(accuracies_svm.std() * 100))"
   ]
  },
  {
   "cell_type": "code",
   "execution_count": 95,
   "id": "967e072b",
   "metadata": {},
   "outputs": [
    {
     "name": "stdout",
     "output_type": "stream",
     "text": [
      "Best hyperparameters:  {'C': 10, 'gamma': 'scale', 'kernel': 'rbf'}\n",
      "Best accuracy score:  0.9976331360946744\n"
     ]
    }
   ],
   "source": [
    "# Define the parameter grid to search\n",
    "param_grid = {'C': [0.1, 1, 10], \n",
    "              'gamma': [0.1, 1, 'scale'], \n",
    "              'kernel': ['linear', 'rbf', 'poly']}\n",
    "\n",
    "# Create an SVM object\n",
    "svm = SVC()\n",
    "\n",
    "# Create a GridSearchCV object\n",
    "grid_search = GridSearchCV(svm, param_grid, cv=5, scoring='accuracy')\n",
    "\n",
    "# Fit the grid search object to the training data\n",
    "grid_search.fit(X_train, y_train)\n",
    "\n",
    "# Print the best hyperparameters and the best accuracy score\n",
    "print(\"Best hyperparameters: \", grid_search.best_params_)\n",
    "print(\"Best accuracy score: \", grid_search.best_score_)"
   ]
  },
  {
   "cell_type": "markdown",
   "id": "a6618531",
   "metadata": {},
   "source": [
    "### 3.1.4. Kernel SVM"
   ]
  },
  {
   "cell_type": "code",
   "execution_count": 96,
   "id": "e873337a",
   "metadata": {},
   "outputs": [
    {
     "data": {
      "text/plain": [
       "SVC()"
      ]
     },
     "execution_count": 96,
     "metadata": {},
     "output_type": "execute_result"
    }
   ],
   "source": [
    "kernel = SVC(kernel = \"rbf\")\n",
    "kernel.fit(X_train,y_train)"
   ]
  },
  {
   "cell_type": "code",
   "execution_count": 97,
   "id": "dc6fda74",
   "metadata": {},
   "outputs": [
    {
     "name": "stdout",
     "output_type": "stream",
     "text": [
      "[[0 0]\n",
      " [2 2]\n",
      " [2 2]\n",
      " [0 0]\n",
      " [2 2]\n",
      " [0 0]\n",
      " [2 2]\n",
      " [1 1]\n",
      " [1 1]\n",
      " [1 1]\n",
      " [1 1]\n",
      " [1 1]\n",
      " [2 2]\n",
      " [1 1]\n",
      " [2 2]\n",
      " [0 0]\n",
      " [1 1]\n",
      " [0 0]\n",
      " [1 1]\n",
      " [2 2]\n",
      " [2 2]\n",
      " [1 1]\n",
      " [0 0]\n",
      " [1 1]\n",
      " [2 2]\n",
      " [0 0]\n",
      " [2 2]\n",
      " [1 1]\n",
      " [0 0]\n",
      " [0 0]\n",
      " [2 2]\n",
      " [0 0]\n",
      " [1 1]\n",
      " [0 0]\n",
      " [0 0]\n",
      " [1 1]\n",
      " [1 1]\n",
      " [0 0]\n",
      " [0 0]\n",
      " [1 1]\n",
      " [0 0]\n",
      " [1 1]\n",
      " [2 2]\n",
      " [2 2]\n",
      " [0 0]\n",
      " [0 0]\n",
      " [2 2]\n",
      " [2 2]\n",
      " [1 1]\n",
      " [1 1]\n",
      " [1 1]\n",
      " [1 1]\n",
      " [1 1]\n",
      " [2 2]\n",
      " [1 1]\n",
      " [2 2]\n",
      " [2 2]\n",
      " [2 0]\n",
      " [2 2]\n",
      " [2 2]\n",
      " [0 0]\n",
      " [1 1]\n",
      " [1 1]\n",
      " [1 1]\n",
      " [1 1]\n",
      " [0 0]\n",
      " [2 2]\n",
      " [1 1]\n",
      " [1 1]\n",
      " [2 2]\n",
      " [2 2]\n",
      " [2 2]\n",
      " [2 2]\n",
      " [1 1]\n",
      " [0 0]\n",
      " [2 2]\n",
      " [2 2]\n",
      " [2 2]\n",
      " [1 1]\n",
      " [1 1]\n",
      " [2 2]\n",
      " [1 1]\n",
      " [2 2]\n",
      " [0 0]\n",
      " [1 1]\n",
      " [1 1]\n",
      " [0 0]\n",
      " [1 1]\n",
      " [2 2]\n",
      " [0 0]\n",
      " [2 2]\n",
      " [2 2]\n",
      " [1 1]\n",
      " [0 0]\n",
      " [2 2]\n",
      " [2 2]\n",
      " [1 1]\n",
      " [2 2]\n",
      " [2 0]\n",
      " [2 2]\n",
      " [1 1]\n",
      " [1 1]\n",
      " [0 0]\n",
      " [1 1]\n",
      " [1 1]\n",
      " [0 0]\n",
      " [1 1]\n",
      " [2 2]\n",
      " [0 0]\n",
      " [0 0]\n",
      " [1 1]\n",
      " [1 1]\n",
      " [2 2]\n",
      " [2 2]\n",
      " [0 0]\n",
      " [1 1]\n",
      " [0 0]\n",
      " [2 2]\n",
      " [1 1]\n",
      " [0 0]\n",
      " [2 2]\n",
      " [2 2]\n",
      " [2 2]\n",
      " [1 1]\n",
      " [2 2]\n",
      " [0 0]\n",
      " [2 2]\n",
      " [2 2]\n",
      " [0 0]\n",
      " [1 1]\n",
      " [2 2]\n",
      " [2 0]\n",
      " [1 1]\n",
      " [1 1]\n",
      " [0 0]\n",
      " [1 1]\n",
      " [1 1]\n",
      " [2 2]\n",
      " [1 1]\n",
      " [1 1]\n",
      " [2 2]\n",
      " [2 2]\n",
      " [0 0]\n",
      " [0 0]\n",
      " [0 0]\n",
      " [0 0]\n",
      " [2 2]\n",
      " [2 2]\n",
      " [1 1]\n",
      " [0 0]\n",
      " [1 1]\n",
      " [2 2]\n",
      " [0 0]\n",
      " [1 1]\n",
      " [2 2]\n",
      " [2 2]\n",
      " [2 2]\n",
      " [0 0]\n",
      " [1 1]\n",
      " [0 0]\n",
      " [1 1]\n",
      " [2 2]\n",
      " [0 1]\n",
      " [1 1]\n",
      " [2 2]\n",
      " [2 2]\n",
      " [2 2]\n",
      " [1 1]\n",
      " [1 1]\n",
      " [2 2]\n",
      " [1 1]\n",
      " [2 2]\n",
      " [2 2]\n",
      " [0 0]\n",
      " [1 1]\n",
      " [1 1]\n",
      " [2 2]\n",
      " [1 1]\n",
      " [1 1]\n",
      " [1 1]\n",
      " [2 2]\n",
      " [2 2]\n",
      " [2 2]\n",
      " [1 1]\n",
      " [1 1]\n",
      " [0 0]\n",
      " [1 1]\n",
      " [1 1]\n",
      " [2 2]\n",
      " [2 2]\n",
      " [2 2]\n",
      " [2 2]\n",
      " [1 1]\n",
      " [1 1]\n",
      " [0 0]\n",
      " [0 0]\n",
      " [1 1]\n",
      " [2 2]\n",
      " [1 1]\n",
      " [1 1]\n",
      " [1 1]\n",
      " [2 2]\n",
      " [2 2]\n",
      " [2 2]\n",
      " [2 0]\n",
      " [0 0]\n",
      " [0 0]\n",
      " [1 1]\n",
      " [1 1]\n",
      " [1 1]\n",
      " [2 2]\n",
      " [1 1]]\n"
     ]
    }
   ],
   "source": [
    "# Predicitng the Test set Results\n",
    "y_pred_kernel = kernel.predict(X_test)\n",
    "np.set_printoptions()\n",
    "print(np.concatenate((y_pred_kernel.reshape(len(y_pred_kernel),1), y_test.reshape(len(y_test),1)), axis=1))"
   ]
  },
  {
   "cell_type": "code",
   "execution_count": 98,
   "id": "75b2e316",
   "metadata": {},
   "outputs": [
    {
     "name": "stdout",
     "output_type": "stream",
     "text": [
      "              precision    recall  f1-score   support\n",
      "\n",
      "           0       0.98      0.92      0.95        52\n",
      "           1       1.00      0.99      0.99        83\n",
      "           2       0.95      1.00      0.97        77\n",
      "\n",
      "    accuracy                           0.98       212\n",
      "   macro avg       0.98      0.97      0.97       212\n",
      "weighted avg       0.98      0.98      0.98       212\n",
      "\n"
     ]
    }
   ],
   "source": [
    "print(classification_report(y_test,y_pred_kernel))"
   ]
  },
  {
   "cell_type": "code",
   "execution_count": 99,
   "id": "1dd1fc11",
   "metadata": {},
   "outputs": [
    {
     "data": {
      "text/plain": [
       "Text(0.5, 23.52222222222222, 'Predicted label')"
      ]
     },
     "execution_count": 99,
     "metadata": {},
     "output_type": "execute_result"
    },
    {
     "data": {
      "image/png": "[encoded data removed]",
      "text/plain": [
       "<Figure size 640x480 with 2 Axes>"
      ]
     },
     "metadata": {},
     "output_type": "display_data"
    }
   ],
   "source": [
    "cm_kernel = confusion_matrix(y_test,y_pred_kernel)\n",
    "p = sns.heatmap(pd.DataFrame(cm_kernel), annot=True, cmap=\"YlGnBu\" ,fmt=\"g\")\n",
    "plt.title('Kernel  Confusion matrix', y=1.1)\n",
    "plt.ylabel('Actual label')\n",
    "plt.xlabel('Predicted label')"
   ]
  },
  {
   "cell_type": "code",
   "execution_count": 100,
   "id": "5e1a3ff7",
   "metadata": {},
   "outputs": [
    {
     "name": "stdout",
     "output_type": "stream",
     "text": [
      "Kernel SVM Accuracy: 97.17 %\n",
      "Kernel SVM Standard Deviation: 1.76 %\n"
     ]
    }
   ],
   "source": [
    "# K-Fold Cross Validation\n",
    "accuracies_kernel_SVM = cross_val_score(estimator = kernel, X = X_train, y = y_train, cv = 10)\n",
    "print(\"Kernel SVM Accuracy: {:.2f} %\".format(accuracies_kernel_SVM.mean() * 100))\n",
    "print(\"Kernel SVM Standard Deviation: {:.2f} %\".format(accuracies_kernel_SVM.std() * 100))"
   ]
  },
  {
   "cell_type": "markdown",
   "id": "326e9662",
   "metadata": {},
   "source": [
    "### 3.1.5. Naive Bayes"
   ]
  },
  {
   "cell_type": "code",
   "execution_count": 101,
   "id": "fd6c00c2",
   "metadata": {},
   "outputs": [],
   "source": [
    "from sklearn.naive_bayes import GaussianNB"
   ]
  },
  {
   "cell_type": "code",
   "execution_count": 102,
   "id": "db2b0182",
   "metadata": {},
   "outputs": [
    {
     "data": {
      "text/plain": [
       "GaussianNB()"
      ]
     },
     "execution_count": 102,
     "metadata": {},
     "output_type": "execute_result"
    }
   ],
   "source": [
    "NB = GaussianNB()\n",
    "NB.fit(X_train,y_train)"
   ]
  },
  {
   "cell_type": "code",
   "execution_count": 103,
   "id": "455f4a2a",
   "metadata": {},
   "outputs": [
    {
     "name": "stdout",
     "output_type": "stream",
     "text": [
      "[[0 0]\n",
      " [2 2]\n",
      " [2 2]\n",
      " [0 0]\n",
      " [2 2]\n",
      " [0 0]\n",
      " [2 2]\n",
      " [1 1]\n",
      " [1 1]\n",
      " [1 1]\n",
      " [1 1]\n",
      " [1 1]\n",
      " [2 2]\n",
      " [1 1]\n",
      " [2 2]\n",
      " [0 0]\n",
      " [1 1]\n",
      " [0 0]\n",
      " [1 1]\n",
      " [2 2]\n",
      " [2 2]\n",
      " [1 1]\n",
      " [0 0]\n",
      " [1 1]\n",
      " [2 2]\n",
      " [0 0]\n",
      " [0 2]\n",
      " [1 1]\n",
      " [0 0]\n",
      " [0 0]\n",
      " [1 2]\n",
      " [0 0]\n",
      " [1 1]\n",
      " [0 0]\n",
      " [0 0]\n",
      " [1 1]\n",
      " [0 1]\n",
      " [0 0]\n",
      " [0 0]\n",
      " [1 1]\n",
      " [0 0]\n",
      " [1 1]\n",
      " [2 2]\n",
      " [2 2]\n",
      " [0 0]\n",
      " [0 0]\n",
      " [2 2]\n",
      " [1 2]\n",
      " [1 1]\n",
      " [1 1]\n",
      " [1 1]\n",
      " [1 1]\n",
      " [2 1]\n",
      " [2 2]\n",
      " [1 1]\n",
      " [2 2]\n",
      " [2 2]\n",
      " [0 0]\n",
      " [2 2]\n",
      " [2 2]\n",
      " [0 0]\n",
      " [0 1]\n",
      " [1 1]\n",
      " [1 1]\n",
      " [1 1]\n",
      " [0 0]\n",
      " [2 2]\n",
      " [1 1]\n",
      " [1 1]\n",
      " [2 2]\n",
      " [2 2]\n",
      " [1 2]\n",
      " [2 2]\n",
      " [1 1]\n",
      " [0 0]\n",
      " [2 2]\n",
      " [0 2]\n",
      " [2 2]\n",
      " [1 1]\n",
      " [1 1]\n",
      " [2 2]\n",
      " [1 1]\n",
      " [2 2]\n",
      " [0 0]\n",
      " [1 1]\n",
      " [1 1]\n",
      " [0 0]\n",
      " [1 1]\n",
      " [2 2]\n",
      " [0 0]\n",
      " [2 2]\n",
      " [2 2]\n",
      " [1 1]\n",
      " [0 0]\n",
      " [2 2]\n",
      " [1 2]\n",
      " [1 1]\n",
      " [1 2]\n",
      " [0 0]\n",
      " [2 2]\n",
      " [1 1]\n",
      " [2 1]\n",
      " [0 0]\n",
      " [1 1]\n",
      " [1 1]\n",
      " [0 0]\n",
      " [1 1]\n",
      " [2 2]\n",
      " [0 0]\n",
      " [0 0]\n",
      " [1 1]\n",
      " [1 1]\n",
      " [2 2]\n",
      " [1 2]\n",
      " [0 0]\n",
      " [2 1]\n",
      " [0 0]\n",
      " [2 2]\n",
      " [1 1]\n",
      " [0 0]\n",
      " [2 2]\n",
      " [0 2]\n",
      " [0 2]\n",
      " [1 1]\n",
      " [2 2]\n",
      " [0 0]\n",
      " [2 2]\n",
      " [2 2]\n",
      " [0 0]\n",
      " [1 1]\n",
      " [2 2]\n",
      " [0 0]\n",
      " [1 1]\n",
      " [1 1]\n",
      " [0 0]\n",
      " [1 1]\n",
      " [1 1]\n",
      " [2 2]\n",
      " [1 1]\n",
      " [1 1]\n",
      " [2 2]\n",
      " [2 2]\n",
      " [0 0]\n",
      " [0 0]\n",
      " [0 0]\n",
      " [0 0]\n",
      " [2 2]\n",
      " [2 2]\n",
      " [1 1]\n",
      " [0 0]\n",
      " [1 1]\n",
      " [2 2]\n",
      " [0 0]\n",
      " [1 1]\n",
      " [2 2]\n",
      " [2 2]\n",
      " [2 2]\n",
      " [0 0]\n",
      " [1 1]\n",
      " [0 0]\n",
      " [1 1]\n",
      " [0 2]\n",
      " [0 1]\n",
      " [1 1]\n",
      " [2 2]\n",
      " [0 2]\n",
      " [2 2]\n",
      " [2 1]\n",
      " [1 1]\n",
      " [2 2]\n",
      " [1 1]\n",
      " [2 2]\n",
      " [2 2]\n",
      " [0 0]\n",
      " [2 1]\n",
      " [1 1]\n",
      " [2 2]\n",
      " [1 1]\n",
      " [1 1]\n",
      " [1 1]\n",
      " [2 2]\n",
      " [2 2]\n",
      " [1 2]\n",
      " [1 1]\n",
      " [1 1]\n",
      " [0 0]\n",
      " [1 1]\n",
      " [1 1]\n",
      " [2 2]\n",
      " [2 2]\n",
      " [2 2]\n",
      " [2 2]\n",
      " [1 1]\n",
      " [1 1]\n",
      " [0 0]\n",
      " [0 0]\n",
      " [2 1]\n",
      " [2 2]\n",
      " [1 1]\n",
      " [2 1]\n",
      " [1 1]\n",
      " [2 2]\n",
      " [2 2]\n",
      " [2 2]\n",
      " [0 0]\n",
      " [0 0]\n",
      " [0 0]\n",
      " [1 1]\n",
      " [1 1]\n",
      " [1 1]\n",
      " [2 2]\n",
      " [1 1]]\n"
     ]
    }
   ],
   "source": [
    "# Predicitng the Test set Results\n",
    "y_pred_NB = NB.predict(X_test)\n",
    "np.set_printoptions()\n",
    "print(np.concatenate((y_pred_NB.reshape(len(y_pred_NB),1), y_test.reshape(len(y_test),1)), axis=1))"
   ]
  },
  {
   "cell_type": "code",
   "execution_count": 104,
   "id": "00e25538",
   "metadata": {},
   "outputs": [
    {
     "name": "stdout",
     "output_type": "stream",
     "text": [
      "              precision    recall  f1-score   support\n",
      "\n",
      "           0       0.85      1.00      0.92        52\n",
      "           1       0.91      0.88      0.90        83\n",
      "           2       0.90      0.83      0.86        77\n",
      "\n",
      "    accuracy                           0.89       212\n",
      "   macro avg       0.89      0.90      0.89       212\n",
      "weighted avg       0.89      0.89      0.89       212\n",
      "\n"
     ]
    }
   ],
   "source": [
    "print(classification_report(y_test,y_pred_NB))"
   ]
  },
  {
   "cell_type": "code",
   "execution_count": 105,
   "id": "cd0c5847",
   "metadata": {},
   "outputs": [
    {
     "data": {
      "text/plain": [
       "Text(0.5, 23.52222222222222, 'Predicted label')"
      ]
     },
     "execution_count": 105,
     "metadata": {},
     "output_type": "execute_result"
    },
    {
     "data": {
      "image/png": "[encoded data removed]",
      "text/plain": [
       "<Figure size 640x480 with 2 Axes>"
      ]
     },
     "metadata": {},
     "output_type": "display_data"
    }
   ],
   "source": [
    "cm_NB = confusion_matrix(y_test,y_pred_NB)\n",
    "p = sns.heatmap(pd.DataFrame(cm_NB), annot=True, cmap=\"YlGnBu\" ,fmt=\"g\")\n",
    "plt.title('NB  Confusion matrix', y=1.1)\n",
    "plt.ylabel('Actual label')\n",
    "plt.xlabel('Predicted label')"
   ]
  },
  {
   "cell_type": "code",
   "execution_count": 106,
   "id": "10a521b8",
   "metadata": {},
   "outputs": [
    {
     "name": "stdout",
     "output_type": "stream",
     "text": [
      "NB Accuracy: 89.02 %\n",
      "NB Standard Deviation: 4.41 %\n"
     ]
    }
   ],
   "source": [
    "# K-Fold Cross Validation\n",
    "accuracies_NB = cross_val_score(estimator = NB, X = X_train, y = y_train, cv = 10)\n",
    "print(\"NB Accuracy: {:.2f} %\".format(accuracies_NB.mean() * 100))\n",
    "print(\"NB Standard Deviation: {:.2f} %\".format(accuracies_NB.std() * 100))"
   ]
  },
  {
   "cell_type": "markdown",
   "id": "1c7a2744",
   "metadata": {},
   "source": [
    "__Hyperparameter Tunning__"
   ]
  },
  {
   "cell_type": "code",
   "execution_count": 107,
   "id": "9104f5ed",
   "metadata": {},
   "outputs": [
    {
     "name": "stdout",
     "output_type": "stream",
     "text": [
      "Best hyperparameters:  {'var_smoothing': 1e-07}\n",
      "Best accuracy score:  0.8942725565590628\n"
     ]
    }
   ],
   "source": [
    "# Define the model\n",
    "NB = GaussianNB()\n",
    "\n",
    "# Define the hyperparameters to tune\n",
    "param_grid = {'var_smoothing': [1e-10, 1e-9, 1e-8, 1e-7, 1e-6]}\n",
    "\n",
    "# Define the search\n",
    "search = GridSearchCV(NB, param_grid, cv=5, scoring='accuracy')\n",
    "\n",
    "# Fit the search to the data\n",
    "search.fit(X, y)\n",
    "\n",
    "# Print the best hyperparameters and best accuracy score\n",
    "print('Best hyperparameters: ', search.best_params_)\n",
    "print('Best accuracy score: ', search.best_score_)"
   ]
  },
  {
   "cell_type": "markdown",
   "id": "c65891b0",
   "metadata": {},
   "source": [
    "### 3.1.6.Decision Trees"
   ]
  },
  {
   "cell_type": "code",
   "execution_count": 108,
   "id": "c7a6ba47",
   "metadata": {},
   "outputs": [],
   "source": [
    "from sklearn.tree import DecisionTreeClassifier"
   ]
  },
  {
   "cell_type": "code",
   "execution_count": 109,
   "id": "675c8531",
   "metadata": {},
   "outputs": [
    {
     "data": {
      "text/plain": [
       "DecisionTreeClassifier(criterion='entropy')"
      ]
     },
     "execution_count": 109,
     "metadata": {},
     "output_type": "execute_result"
    }
   ],
   "source": [
    "tree = DecisionTreeClassifier(criterion=\"entropy\")\n",
    "tree.fit(X_train,y_train)"
   ]
  },
  {
   "cell_type": "code",
   "execution_count": 110,
   "id": "26f66ec9",
   "metadata": {},
   "outputs": [
    {
     "name": "stdout",
     "output_type": "stream",
     "text": [
      "[[0 0]\n",
      " [2 2]\n",
      " [2 2]\n",
      " [0 0]\n",
      " [2 2]\n",
      " [0 0]\n",
      " [2 2]\n",
      " [1 1]\n",
      " [1 1]\n",
      " [1 1]\n",
      " [1 1]\n",
      " [1 1]\n",
      " [2 2]\n",
      " [1 1]\n",
      " [2 2]\n",
      " [0 0]\n",
      " [1 1]\n",
      " [0 0]\n",
      " [1 1]\n",
      " [2 2]\n",
      " [2 2]\n",
      " [1 1]\n",
      " [0 0]\n",
      " [1 1]\n",
      " [2 2]\n",
      " [0 0]\n",
      " [2 2]\n",
      " [1 1]\n",
      " [0 0]\n",
      " [0 0]\n",
      " [2 2]\n",
      " [0 0]\n",
      " [1 1]\n",
      " [0 0]\n",
      " [0 0]\n",
      " [1 1]\n",
      " [1 1]\n",
      " [0 0]\n",
      " [0 0]\n",
      " [1 1]\n",
      " [0 0]\n",
      " [1 1]\n",
      " [2 2]\n",
      " [2 2]\n",
      " [0 0]\n",
      " [0 0]\n",
      " [2 2]\n",
      " [2 2]\n",
      " [1 1]\n",
      " [1 1]\n",
      " [1 1]\n",
      " [1 1]\n",
      " [1 1]\n",
      " [2 2]\n",
      " [1 1]\n",
      " [2 2]\n",
      " [2 2]\n",
      " [0 0]\n",
      " [2 2]\n",
      " [2 2]\n",
      " [0 0]\n",
      " [1 1]\n",
      " [1 1]\n",
      " [1 1]\n",
      " [1 1]\n",
      " [0 0]\n",
      " [2 2]\n",
      " [1 1]\n",
      " [1 1]\n",
      " [2 2]\n",
      " [2 2]\n",
      " [2 2]\n",
      " [2 2]\n",
      " [1 1]\n",
      " [0 0]\n",
      " [2 2]\n",
      " [2 2]\n",
      " [2 2]\n",
      " [1 1]\n",
      " [1 1]\n",
      " [2 2]\n",
      " [1 1]\n",
      " [2 2]\n",
      " [0 0]\n",
      " [1 1]\n",
      " [1 1]\n",
      " [0 0]\n",
      " [1 1]\n",
      " [2 2]\n",
      " [0 0]\n",
      " [2 2]\n",
      " [2 2]\n",
      " [1 1]\n",
      " [0 0]\n",
      " [2 2]\n",
      " [2 2]\n",
      " [1 1]\n",
      " [2 2]\n",
      " [0 0]\n",
      " [2 2]\n",
      " [1 1]\n",
      " [1 1]\n",
      " [0 0]\n",
      " [1 1]\n",
      " [1 1]\n",
      " [0 0]\n",
      " [1 1]\n",
      " [2 2]\n",
      " [0 0]\n",
      " [0 0]\n",
      " [1 1]\n",
      " [1 1]\n",
      " [2 2]\n",
      " [2 2]\n",
      " [0 0]\n",
      " [1 1]\n",
      " [0 0]\n",
      " [2 2]\n",
      " [1 1]\n",
      " [0 0]\n",
      " [2 2]\n",
      " [2 2]\n",
      " [2 2]\n",
      " [1 1]\n",
      " [2 2]\n",
      " [0 0]\n",
      " [2 2]\n",
      " [2 2]\n",
      " [0 0]\n",
      " [1 1]\n",
      " [2 2]\n",
      " [0 0]\n",
      " [1 1]\n",
      " [1 1]\n",
      " [0 0]\n",
      " [1 1]\n",
      " [1 1]\n",
      " [2 2]\n",
      " [1 1]\n",
      " [1 1]\n",
      " [2 2]\n",
      " [2 2]\n",
      " [0 0]\n",
      " [0 0]\n",
      " [0 0]\n",
      " [0 0]\n",
      " [2 2]\n",
      " [2 2]\n",
      " [1 1]\n",
      " [0 0]\n",
      " [1 1]\n",
      " [2 2]\n",
      " [0 0]\n",
      " [1 1]\n",
      " [2 2]\n",
      " [2 2]\n",
      " [2 2]\n",
      " [0 0]\n",
      " [1 1]\n",
      " [0 0]\n",
      " [1 1]\n",
      " [2 2]\n",
      " [1 1]\n",
      " [1 1]\n",
      " [2 2]\n",
      " [2 2]\n",
      " [2 2]\n",
      " [1 1]\n",
      " [1 1]\n",
      " [2 2]\n",
      " [1 1]\n",
      " [2 2]\n",
      " [2 2]\n",
      " [0 0]\n",
      " [1 1]\n",
      " [1 1]\n",
      " [2 2]\n",
      " [1 1]\n",
      " [1 1]\n",
      " [1 1]\n",
      " [2 2]\n",
      " [2 2]\n",
      " [2 2]\n",
      " [1 1]\n",
      " [1 1]\n",
      " [0 0]\n",
      " [1 1]\n",
      " [1 1]\n",
      " [2 2]\n",
      " [2 2]\n",
      " [2 2]\n",
      " [2 2]\n",
      " [1 1]\n",
      " [1 1]\n",
      " [0 0]\n",
      " [0 0]\n",
      " [1 1]\n",
      " [2 2]\n",
      " [1 1]\n",
      " [1 1]\n",
      " [1 1]\n",
      " [2 2]\n",
      " [2 2]\n",
      " [2 2]\n",
      " [0 0]\n",
      " [0 0]\n",
      " [0 0]\n",
      " [1 1]\n",
      " [1 1]\n",
      " [1 1]\n",
      " [2 2]\n",
      " [1 1]]\n"
     ]
    }
   ],
   "source": [
    "# Predicting the Test Set Results\n",
    "y_pred_tree = tree.predict(X_test)\n",
    "np.set_printoptions()\n",
    "print(np.concatenate((y_pred_tree.reshape(len(y_pred_tree),1), y_test.reshape(len(y_test),1)), axis=1))"
   ]
  },
  {
   "cell_type": "code",
   "execution_count": 111,
   "id": "933c83cc",
   "metadata": {},
   "outputs": [
    {
     "name": "stdout",
     "output_type": "stream",
     "text": [
      "              precision    recall  f1-score   support\n",
      "\n",
      "           0       1.00      1.00      1.00        52\n",
      "           1       1.00      1.00      1.00        83\n",
      "           2       1.00      1.00      1.00        77\n",
      "\n",
      "    accuracy                           1.00       212\n",
      "   macro avg       1.00      1.00      1.00       212\n",
      "weighted avg       1.00      1.00      1.00       212\n",
      "\n"
     ]
    }
   ],
   "source": [
    "# Making The Confusion Matrix and See Some Metrics\n",
    "print(classification_report(y_test,y_pred_tree))"
   ]
  },
  {
   "cell_type": "code",
   "execution_count": 112,
   "id": "341ccda9",
   "metadata": {},
   "outputs": [
    {
     "data": {
      "text/plain": [
       "Text(0.5, 23.52222222222222, 'Predicted label')"
      ]
     },
     "execution_count": 112,
     "metadata": {},
     "output_type": "execute_result"
    },
    {
     "data": {
      "image/png": "[encoded data removed]",
      "text/plain": [
       "<Figure size 640x480 with 2 Axes>"
      ]
     },
     "metadata": {},
     "output_type": "display_data"
    }
   ],
   "source": [
    "cm_tree = confusion_matrix(y_test,y_pred_tree)\n",
    "p = sns.heatmap(pd.DataFrame(cm_tree), annot=True, cmap=\"YlGnBu\" ,fmt=\"g\")\n",
    "plt.title('Decision Tree  Confusion matrix', y=1.1)\n",
    "plt.ylabel('Actual label')\n",
    "plt.xlabel('Predicted label')"
   ]
  },
  {
   "cell_type": "code",
   "execution_count": 113,
   "id": "fa76e3a9",
   "metadata": {},
   "outputs": [
    {
     "name": "stdout",
     "output_type": "stream",
     "text": [
      "Decision Tree Accuracy: 99.29 %\n",
      "Decison Tree Standard Deviation: 0.58 %\n"
     ]
    }
   ],
   "source": [
    "# K-Fold Cross Validation\n",
    "accuracies_tree = cross_val_score(estimator = tree, X = X_train, y = y_train, cv = 10)\n",
    "print(\"Decision Tree Accuracy: {:.2f} %\".format(accuracies_tree.mean() * 100))\n",
    "print(\"Decison Tree Standard Deviation: {:.2f} %\".format(accuracies_tree.std() * 100))"
   ]
  },
  {
   "cell_type": "markdown",
   "id": "b0aa6ddc",
   "metadata": {},
   "source": [
    "### 3.1.7. Random Forest"
   ]
  },
  {
   "cell_type": "code",
   "execution_count": 114,
   "id": "82768285",
   "metadata": {},
   "outputs": [],
   "source": [
    "from sklearn.ensemble import RandomForestClassifier"
   ]
  },
  {
   "cell_type": "code",
   "execution_count": 115,
   "id": "dc7455db",
   "metadata": {},
   "outputs": [
    {
     "data": {
      "text/plain": [
       "RandomForestClassifier(criterion='entropy')"
      ]
     },
     "execution_count": 115,
     "metadata": {},
     "output_type": "execute_result"
    }
   ],
   "source": [
    "forest = RandomForestClassifier(n_estimators=100, criterion = \"entropy\")\n",
    "forest.fit(X_train,y_train)"
   ]
  },
  {
   "cell_type": "code",
   "execution_count": 116,
   "id": "92d09cfa",
   "metadata": {},
   "outputs": [
    {
     "name": "stdout",
     "output_type": "stream",
     "text": [
      "[[0 0]\n",
      " [2 2]\n",
      " [2 2]\n",
      " [0 0]\n",
      " [2 2]\n",
      " [0 0]\n",
      " [2 2]\n",
      " [1 1]\n",
      " [1 1]\n",
      " [1 1]\n",
      " [1 1]\n",
      " [1 1]\n",
      " [2 2]\n",
      " [1 1]\n",
      " [2 2]\n",
      " [0 0]\n",
      " [1 1]\n",
      " [0 0]\n",
      " [1 1]\n",
      " [2 2]\n",
      " [2 2]\n",
      " [1 1]\n",
      " [0 0]\n",
      " [1 1]\n",
      " [2 2]\n",
      " [0 0]\n",
      " [2 2]\n",
      " [1 1]\n",
      " [0 0]\n",
      " [0 0]\n",
      " [2 2]\n",
      " [0 0]\n",
      " [1 1]\n",
      " [0 0]\n",
      " [0 0]\n",
      " [1 1]\n",
      " [1 1]\n",
      " [0 0]\n",
      " [0 0]\n",
      " [1 1]\n",
      " [0 0]\n",
      " [1 1]\n",
      " [2 2]\n",
      " [2 2]\n",
      " [0 0]\n",
      " [0 0]\n",
      " [2 2]\n",
      " [2 2]\n",
      " [1 1]\n",
      " [1 1]\n",
      " [1 1]\n",
      " [1 1]\n",
      " [1 1]\n",
      " [2 2]\n",
      " [1 1]\n",
      " [2 2]\n",
      " [2 2]\n",
      " [0 0]\n",
      " [2 2]\n",
      " [2 2]\n",
      " [0 0]\n",
      " [1 1]\n",
      " [1 1]\n",
      " [1 1]\n",
      " [1 1]\n",
      " [0 0]\n",
      " [2 2]\n",
      " [1 1]\n",
      " [1 1]\n",
      " [2 2]\n",
      " [2 2]\n",
      " [2 2]\n",
      " [2 2]\n",
      " [1 1]\n",
      " [0 0]\n",
      " [2 2]\n",
      " [2 2]\n",
      " [2 2]\n",
      " [1 1]\n",
      " [1 1]\n",
      " [2 2]\n",
      " [1 1]\n",
      " [2 2]\n",
      " [0 0]\n",
      " [1 1]\n",
      " [1 1]\n",
      " [0 0]\n",
      " [1 1]\n",
      " [2 2]\n",
      " [0 0]\n",
      " [2 2]\n",
      " [2 2]\n",
      " [1 1]\n",
      " [0 0]\n",
      " [2 2]\n",
      " [2 2]\n",
      " [1 1]\n",
      " [2 2]\n",
      " [0 0]\n",
      " [2 2]\n",
      " [1 1]\n",
      " [1 1]\n",
      " [0 0]\n",
      " [1 1]\n",
      " [1 1]\n",
      " [0 0]\n",
      " [1 1]\n",
      " [2 2]\n",
      " [0 0]\n",
      " [0 0]\n",
      " [1 1]\n",
      " [1 1]\n",
      " [2 2]\n",
      " [2 2]\n",
      " [0 0]\n",
      " [1 1]\n",
      " [0 0]\n",
      " [2 2]\n",
      " [1 1]\n",
      " [0 0]\n",
      " [2 2]\n",
      " [2 2]\n",
      " [2 2]\n",
      " [1 1]\n",
      " [2 2]\n",
      " [0 0]\n",
      " [2 2]\n",
      " [2 2]\n",
      " [0 0]\n",
      " [1 1]\n",
      " [2 2]\n",
      " [0 0]\n",
      " [1 1]\n",
      " [1 1]\n",
      " [0 0]\n",
      " [1 1]\n",
      " [1 1]\n",
      " [2 2]\n",
      " [1 1]\n",
      " [1 1]\n",
      " [2 2]\n",
      " [2 2]\n",
      " [0 0]\n",
      " [0 0]\n",
      " [0 0]\n",
      " [0 0]\n",
      " [2 2]\n",
      " [2 2]\n",
      " [1 1]\n",
      " [0 0]\n",
      " [1 1]\n",
      " [2 2]\n",
      " [0 0]\n",
      " [1 1]\n",
      " [2 2]\n",
      " [2 2]\n",
      " [2 2]\n",
      " [0 0]\n",
      " [1 1]\n",
      " [0 0]\n",
      " [1 1]\n",
      " [2 2]\n",
      " [1 1]\n",
      " [1 1]\n",
      " [2 2]\n",
      " [2 2]\n",
      " [2 2]\n",
      " [1 1]\n",
      " [1 1]\n",
      " [2 2]\n",
      " [1 1]\n",
      " [2 2]\n",
      " [2 2]\n",
      " [0 0]\n",
      " [1 1]\n",
      " [1 1]\n",
      " [2 2]\n",
      " [1 1]\n",
      " [1 1]\n",
      " [1 1]\n",
      " [2 2]\n",
      " [2 2]\n",
      " [2 2]\n",
      " [1 1]\n",
      " [1 1]\n",
      " [0 0]\n",
      " [1 1]\n",
      " [1 1]\n",
      " [2 2]\n",
      " [2 2]\n",
      " [2 2]\n",
      " [2 2]\n",
      " [1 1]\n",
      " [1 1]\n",
      " [0 0]\n",
      " [0 0]\n",
      " [1 1]\n",
      " [2 2]\n",
      " [1 1]\n",
      " [1 1]\n",
      " [1 1]\n",
      " [2 2]\n",
      " [2 2]\n",
      " [2 2]\n",
      " [0 0]\n",
      " [0 0]\n",
      " [0 0]\n",
      " [1 1]\n",
      " [1 1]\n",
      " [1 1]\n",
      " [2 2]\n",
      " [1 1]]\n"
     ]
    }
   ],
   "source": [
    "# Predicting the Test Set Results\n",
    "y_pred_forest = forest.predict(X_test)\n",
    "np.set_printoptions()\n",
    "print(np.concatenate((y_pred_forest.reshape(len(y_pred_forest),1), y_test.reshape(len(y_test),1)), axis=1))"
   ]
  },
  {
   "cell_type": "code",
   "execution_count": 117,
   "id": "40f4f7e7",
   "metadata": {},
   "outputs": [
    {
     "name": "stdout",
     "output_type": "stream",
     "text": [
      "              precision    recall  f1-score   support\n",
      "\n",
      "           0       1.00      1.00      1.00        52\n",
      "           1       1.00      1.00      1.00        83\n",
      "           2       1.00      1.00      1.00        77\n",
      "\n",
      "    accuracy                           1.00       212\n",
      "   macro avg       1.00      1.00      1.00       212\n",
      "weighted avg       1.00      1.00      1.00       212\n",
      "\n"
     ]
    }
   ],
   "source": [
    "# Making The Confusion Matrix and See Some Metrics\n",
    "print(classification_report(y_test,y_pred_forest))"
   ]
  },
  {
   "cell_type": "code",
   "execution_count": 118,
   "id": "0c05c22c",
   "metadata": {},
   "outputs": [
    {
     "data": {
      "text/plain": [
       "Text(0.5, 23.52222222222222, 'Predicted label')"
      ]
     },
     "execution_count": 118,
     "metadata": {},
     "output_type": "execute_result"
    },
    {
     "data": {
      "image/png": "[encoded data removed]",
      "text/plain": [
       "<Figure size 640x480 with 2 Axes>"
      ]
     },
     "metadata": {},
     "output_type": "display_data"
    }
   ],
   "source": [
    "cm_forest = confusion_matrix(y_test,y_pred_forest)\n",
    "p = sns.heatmap(pd.DataFrame(cm_forest), annot=True, cmap=\"YlGnBu\" ,fmt=\"g\")\n",
    "plt.title('Random Forest  Confusion matrix', y=1.1)\n",
    "plt.ylabel('Actual label')\n",
    "plt.xlabel('Predicted label')"
   ]
  },
  {
   "cell_type": "code",
   "execution_count": 119,
   "id": "e5135111",
   "metadata": {},
   "outputs": [
    {
     "name": "stdout",
     "output_type": "stream",
     "text": [
      "Random Forest Accuracy: 99.76 %\n",
      "Random Forest Standard Deviation: 0.47 %\n"
     ]
    }
   ],
   "source": [
    "# K-Fold Cross Validation\n",
    "accuracies_forest = cross_val_score(estimator = forest, X = X_train, y = y_train, cv = 10)\n",
    "print(\"Random Forest Accuracy: {:.2f} %\".format(accuracies_forest.mean() * 100))\n",
    "print(\"Random Forest Standard Deviation: {:.2f} %\".format(accuracies_forest.std() * 100))"
   ]
  },
  {
   "cell_type": "markdown",
   "id": "575ec45b",
   "metadata": {},
   "source": [
    "__Hyperparameter Tunning__"
   ]
  },
  {
   "cell_type": "code",
   "execution_count": 120,
   "id": "f8b82a6c",
   "metadata": {},
   "outputs": [],
   "source": [
    "# Create a random forest model\n",
    "rf_model = RandomForestClassifier()"
   ]
  },
  {
   "cell_type": "code",
   "execution_count": 121,
   "id": "78d1f7d1",
   "metadata": {},
   "outputs": [],
   "source": [
    "# Define the hyperparameters to tune\n",
    "params = {\n",
    "    \"n_estimators\": [100, 200, 500],\n",
    "    \"max_depth\": [5, 10, 20, None],\n",
    "    \"min_samples_split\": [2, 5, 10],\n",
    "    \"min_samples_leaf\": [1, 2, 4],\n",
    "    \"max_features\": [\"auto\", \"sqrt\"],\n",
    "    \"bootstrap\": [True, False]\n",
    "}"
   ]
  },
  {
   "cell_type": "code",
   "execution_count": 122,
   "id": "ba7ea73a",
   "metadata": {},
   "outputs": [],
   "source": [
    "# Define the grid search object\n",
    "grid_search = GridSearchCV(estimator=rf_model, param_grid=params, cv=5)"
   ]
  },
  {
   "cell_type": "code",
   "execution_count": 123,
   "id": "97e473a7",
   "metadata": {},
   "outputs": [
    {
     "data": {
      "text/plain": [
       "GridSearchCV(cv=5, estimator=RandomForestClassifier(),\n",
       "             param_grid={'bootstrap': [True, False],\n",
       "                         'max_depth': [5, 10, 20, None],\n",
       "                         'max_features': ['auto', 'sqrt'],\n",
       "                         'min_samples_leaf': [1, 2, 4],\n",
       "                         'min_samples_split': [2, 5, 10],\n",
       "                         'n_estimators': [100, 200, 500]})"
      ]
     },
     "execution_count": 123,
     "metadata": {},
     "output_type": "execute_result"
    }
   ],
   "source": [
    "# Fit the grid search object to the training data\n",
    "grid_search.fit(X_train, y_train)"
   ]
  },
  {
   "cell_type": "code",
   "execution_count": 124,
   "id": "e24ffd36",
   "metadata": {},
   "outputs": [
    {
     "name": "stdout",
     "output_type": "stream",
     "text": [
      "Best hyperparameters:  {'bootstrap': True, 'max_depth': None, 'max_features': 'auto', 'min_samples_leaf': 1, 'min_samples_split': 5, 'n_estimators': 100}\n",
      "Best accuracy score:  0.9988165680473372\n"
     ]
    }
   ],
   "source": [
    "# Print the best hyperparameters and the corresponding accuracy score\n",
    "print(\"Best hyperparameters: \", grid_search.best_params_)\n",
    "print(\"Best accuracy score: \", grid_search.best_score_)"
   ]
  },
  {
   "cell_type": "code",
   "execution_count": 125,
   "id": "7515c2b3",
   "metadata": {},
   "outputs": [],
   "source": [
    "from sklearn.model_selection import validation_curve"
   ]
  },
  {
   "cell_type": "code",
   "execution_count": 126,
   "id": "2c922114",
   "metadata": {},
   "outputs": [
    {
     "data": {
      "image/png": "[encoded data removed]",
      "text/plain": [
       "<Figure size 1000x600 with 1 Axes>"
      ]
     },
     "metadata": {},
     "output_type": "display_data"
    }
   ],
   "source": [
    "# Define the range of values to test for max_depth hyperparameter\n",
    "param_range = np.arange(1, 15)\n",
    "\n",
    "# Create the random forest classifier\n",
    "rf = RandomForestClassifier(n_estimators=100, max_features='auto', bootstrap=True, \n",
    "                             min_samples_leaf=1, min_samples_split=2)\n",
    "\n",
    "# Calculate training and test scores for different values of max_depth\n",
    "train_scores, test_scores = validation_curve(rf, X_train, y_train, \n",
    "                                             param_name=\"max_depth\", \n",
    "                                             param_range=param_range,\n",
    "                                             cv=5, scoring=\"accuracy\")\n",
    "\n",
    "# Calculate mean and standard deviation of training and test scores\n",
    "train_mean = np.mean(train_scores, axis=1)\n",
    "train_std = np.std(train_scores, axis=1)\n",
    "test_mean = np.mean(test_scores, axis=1)\n",
    "test_std = np.std(test_scores, axis=1)\n",
    "\n",
    "# Plot the validation curve\n",
    "plt.figure(figsize=(10, 6))\n",
    "plt.title(\"Validation Curve with Random Forest\")\n",
    "plt.xlabel(\"max_depth\")\n",
    "plt.ylabel(\"Accuracy\")\n",
    "plt.ylim(0.9, 1.0)\n",
    "lw = 2\n",
    "plt.plot(param_range, train_mean, label=\"Training score\",\n",
    "             color=\"darkorange\", lw=lw)\n",
    "plt.fill_between(param_range, train_mean - train_std, train_mean + train_std, alpha=0.2,\n",
    "                     color=\"darkorange\", lw=lw)\n",
    "plt.plot(param_range, test_mean, label=\"Cross-validation score\",\n",
    "             color=\"navy\", lw=lw)\n",
    "plt.fill_between(param_range, test_mean - test_std, test_mean + test_std, alpha=0.2,\n",
    "                     color=\"navy\", lw=lw)\n",
    "plt.legend(loc=\"best\")\n",
    "plt.show()"
   ]
  },
  {
   "cell_type": "code",
   "execution_count": null,
   "id": "7a2171a9",
   "metadata": {},
   "outputs": [],
   "source": []
  },
  {
   "cell_type": "code",
   "execution_count": null,
   "id": "df19aa3c",
   "metadata": {},
   "outputs": [],
   "source": []
  },
  {
   "cell_type": "code",
   "execution_count": null,
   "id": "74835e31",
   "metadata": {},
   "outputs": [],
   "source": []
  }
 ],
 "metadata": {
  "kernelspec": {
   "display_name": "Python 3 (ipykernel)",
   "language": "python",
   "name": "python3"
  },
  "language_info": {
   "codemirror_mode": {
    "name": "ipython",
    "version": 3
   },
   "file_extension": ".py",
   "mimetype": "text/x-python",
   "name": "python",
   "nbconvert_exporter": "python",
   "pygments_lexer": "ipython3",
   "version": "3.9.13"
  }
 },
 "nbformat": 4,
 "nbformat_minor": 5
}
